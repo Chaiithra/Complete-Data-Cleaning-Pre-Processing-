{
 "cells": [
  {
   "cell_type": "markdown",
   "id": "f8580ba7",
   "metadata": {},
   "source": [
    "### 1. Importing Libraries"
   ]
  },
  {
   "cell_type": "code",
   "execution_count": 1,
   "id": "f62d2827",
   "metadata": {},
   "outputs": [],
   "source": [
    "import pandas as pd\n",
    "import numpy as np\n",
    "import matplotlib.pyplot as plt\n",
    "import seaborn as sns"
   ]
  },
  {
   "cell_type": "markdown",
   "id": "a06c1f34",
   "metadata": {},
   "source": [
    "### 2. Loading Dataset"
   ]
  },
  {
   "cell_type": "code",
   "execution_count": 2,
   "id": "2d17ad80",
   "metadata": {},
   "outputs": [],
   "source": [
    "df = pd.read_csv(\"Titanic-Dataset.csv\")"
   ]
  },
  {
   "cell_type": "code",
   "execution_count": 3,
   "id": "28c41cb6",
   "metadata": {},
   "outputs": [
    {
     "data": {
      "text/html": [
       "<div>\n",
       "<style scoped>\n",
       "    .dataframe tbody tr th:only-of-type {\n",
       "        vertical-align: middle;\n",
       "    }\n",
       "\n",
       "    .dataframe tbody tr th {\n",
       "        vertical-align: top;\n",
       "    }\n",
       "\n",
       "    .dataframe thead th {\n",
       "        text-align: right;\n",
       "    }\n",
       "</style>\n",
       "<table border=\"1\" class=\"dataframe\">\n",
       "  <thead>\n",
       "    <tr style=\"text-align: right;\">\n",
       "      <th></th>\n",
       "      <th>PassengerId</th>\n",
       "      <th>Survived</th>\n",
       "      <th>Pclass</th>\n",
       "      <th>Name</th>\n",
       "      <th>Sex</th>\n",
       "      <th>Age</th>\n",
       "      <th>SibSp</th>\n",
       "      <th>Parch</th>\n",
       "      <th>Ticket</th>\n",
       "      <th>Fare</th>\n",
       "      <th>Cabin</th>\n",
       "      <th>Embarked</th>\n",
       "    </tr>\n",
       "  </thead>\n",
       "  <tbody>\n",
       "    <tr>\n",
       "      <th>0</th>\n",
       "      <td>1</td>\n",
       "      <td>0</td>\n",
       "      <td>3</td>\n",
       "      <td>Braund, Mr. Owen Harris</td>\n",
       "      <td>male</td>\n",
       "      <td>22.0</td>\n",
       "      <td>1</td>\n",
       "      <td>0</td>\n",
       "      <td>A/5 21171</td>\n",
       "      <td>7.2500</td>\n",
       "      <td>NaN</td>\n",
       "      <td>S</td>\n",
       "    </tr>\n",
       "    <tr>\n",
       "      <th>1</th>\n",
       "      <td>2</td>\n",
       "      <td>1</td>\n",
       "      <td>1</td>\n",
       "      <td>Cumings, Mrs. John Bradley (Florence Briggs Th...</td>\n",
       "      <td>female</td>\n",
       "      <td>38.0</td>\n",
       "      <td>1</td>\n",
       "      <td>0</td>\n",
       "      <td>PC 17599</td>\n",
       "      <td>71.2833</td>\n",
       "      <td>C85</td>\n",
       "      <td>C</td>\n",
       "    </tr>\n",
       "    <tr>\n",
       "      <th>2</th>\n",
       "      <td>3</td>\n",
       "      <td>1</td>\n",
       "      <td>3</td>\n",
       "      <td>Heikkinen, Miss. Laina</td>\n",
       "      <td>female</td>\n",
       "      <td>26.0</td>\n",
       "      <td>0</td>\n",
       "      <td>0</td>\n",
       "      <td>STON/O2. 3101282</td>\n",
       "      <td>7.9250</td>\n",
       "      <td>NaN</td>\n",
       "      <td>S</td>\n",
       "    </tr>\n",
       "    <tr>\n",
       "      <th>3</th>\n",
       "      <td>4</td>\n",
       "      <td>1</td>\n",
       "      <td>1</td>\n",
       "      <td>Futrelle, Mrs. Jacques Heath (Lily May Peel)</td>\n",
       "      <td>female</td>\n",
       "      <td>35.0</td>\n",
       "      <td>1</td>\n",
       "      <td>0</td>\n",
       "      <td>113803</td>\n",
       "      <td>53.1000</td>\n",
       "      <td>C123</td>\n",
       "      <td>S</td>\n",
       "    </tr>\n",
       "    <tr>\n",
       "      <th>4</th>\n",
       "      <td>5</td>\n",
       "      <td>0</td>\n",
       "      <td>3</td>\n",
       "      <td>Allen, Mr. William Henry</td>\n",
       "      <td>male</td>\n",
       "      <td>35.0</td>\n",
       "      <td>0</td>\n",
       "      <td>0</td>\n",
       "      <td>373450</td>\n",
       "      <td>8.0500</td>\n",
       "      <td>NaN</td>\n",
       "      <td>S</td>\n",
       "    </tr>\n",
       "    <tr>\n",
       "      <th>...</th>\n",
       "      <td>...</td>\n",
       "      <td>...</td>\n",
       "      <td>...</td>\n",
       "      <td>...</td>\n",
       "      <td>...</td>\n",
       "      <td>...</td>\n",
       "      <td>...</td>\n",
       "      <td>...</td>\n",
       "      <td>...</td>\n",
       "      <td>...</td>\n",
       "      <td>...</td>\n",
       "      <td>...</td>\n",
       "    </tr>\n",
       "    <tr>\n",
       "      <th>95</th>\n",
       "      <td>96</td>\n",
       "      <td>0</td>\n",
       "      <td>3</td>\n",
       "      <td>Shorney, Mr. Charles Joseph</td>\n",
       "      <td>male</td>\n",
       "      <td>NaN</td>\n",
       "      <td>0</td>\n",
       "      <td>0</td>\n",
       "      <td>374910</td>\n",
       "      <td>8.0500</td>\n",
       "      <td>NaN</td>\n",
       "      <td>S</td>\n",
       "    </tr>\n",
       "    <tr>\n",
       "      <th>96</th>\n",
       "      <td>97</td>\n",
       "      <td>0</td>\n",
       "      <td>1</td>\n",
       "      <td>Goldschmidt, Mr. George B</td>\n",
       "      <td>male</td>\n",
       "      <td>71.0</td>\n",
       "      <td>0</td>\n",
       "      <td>0</td>\n",
       "      <td>PC 17754</td>\n",
       "      <td>34.6542</td>\n",
       "      <td>A5</td>\n",
       "      <td>C</td>\n",
       "    </tr>\n",
       "    <tr>\n",
       "      <th>97</th>\n",
       "      <td>98</td>\n",
       "      <td>1</td>\n",
       "      <td>1</td>\n",
       "      <td>Greenfield, Mr. William Bertram</td>\n",
       "      <td>male</td>\n",
       "      <td>23.0</td>\n",
       "      <td>0</td>\n",
       "      <td>1</td>\n",
       "      <td>PC 17759</td>\n",
       "      <td>63.3583</td>\n",
       "      <td>D10 D12</td>\n",
       "      <td>C</td>\n",
       "    </tr>\n",
       "    <tr>\n",
       "      <th>98</th>\n",
       "      <td>99</td>\n",
       "      <td>1</td>\n",
       "      <td>2</td>\n",
       "      <td>Doling, Mrs. John T (Ada Julia Bone)</td>\n",
       "      <td>female</td>\n",
       "      <td>34.0</td>\n",
       "      <td>0</td>\n",
       "      <td>1</td>\n",
       "      <td>231919</td>\n",
       "      <td>23.0000</td>\n",
       "      <td>NaN</td>\n",
       "      <td>S</td>\n",
       "    </tr>\n",
       "    <tr>\n",
       "      <th>99</th>\n",
       "      <td>100</td>\n",
       "      <td>0</td>\n",
       "      <td>2</td>\n",
       "      <td>Kantor, Mr. Sinai</td>\n",
       "      <td>male</td>\n",
       "      <td>34.0</td>\n",
       "      <td>1</td>\n",
       "      <td>0</td>\n",
       "      <td>244367</td>\n",
       "      <td>26.0000</td>\n",
       "      <td>NaN</td>\n",
       "      <td>S</td>\n",
       "    </tr>\n",
       "  </tbody>\n",
       "</table>\n",
       "<p>100 rows × 12 columns</p>\n",
       "</div>"
      ],
      "text/plain": [
       "    PassengerId  Survived  Pclass  \\\n",
       "0             1         0       3   \n",
       "1             2         1       1   \n",
       "2             3         1       3   \n",
       "3             4         1       1   \n",
       "4             5         0       3   \n",
       "..          ...       ...     ...   \n",
       "95           96         0       3   \n",
       "96           97         0       1   \n",
       "97           98         1       1   \n",
       "98           99         1       2   \n",
       "99          100         0       2   \n",
       "\n",
       "                                                 Name     Sex   Age  SibSp  \\\n",
       "0                             Braund, Mr. Owen Harris    male  22.0      1   \n",
       "1   Cumings, Mrs. John Bradley (Florence Briggs Th...  female  38.0      1   \n",
       "2                              Heikkinen, Miss. Laina  female  26.0      0   \n",
       "3        Futrelle, Mrs. Jacques Heath (Lily May Peel)  female  35.0      1   \n",
       "4                            Allen, Mr. William Henry    male  35.0      0   \n",
       "..                                                ...     ...   ...    ...   \n",
       "95                        Shorney, Mr. Charles Joseph    male   NaN      0   \n",
       "96                          Goldschmidt, Mr. George B    male  71.0      0   \n",
       "97                    Greenfield, Mr. William Bertram    male  23.0      0   \n",
       "98               Doling, Mrs. John T (Ada Julia Bone)  female  34.0      0   \n",
       "99                                  Kantor, Mr. Sinai    male  34.0      1   \n",
       "\n",
       "    Parch            Ticket     Fare    Cabin Embarked  \n",
       "0       0         A/5 21171   7.2500      NaN        S  \n",
       "1       0          PC 17599  71.2833      C85        C  \n",
       "2       0  STON/O2. 3101282   7.9250      NaN        S  \n",
       "3       0            113803  53.1000     C123        S  \n",
       "4       0            373450   8.0500      NaN        S  \n",
       "..    ...               ...      ...      ...      ...  \n",
       "95      0            374910   8.0500      NaN        S  \n",
       "96      0          PC 17754  34.6542       A5        C  \n",
       "97      1          PC 17759  63.3583  D10 D12        C  \n",
       "98      1            231919  23.0000      NaN        S  \n",
       "99      0            244367  26.0000      NaN        S  \n",
       "\n",
       "[100 rows x 12 columns]"
      ]
     },
     "execution_count": 3,
     "metadata": {},
     "output_type": "execute_result"
    }
   ],
   "source": [
    "df.head(100)"
   ]
  },
  {
   "cell_type": "markdown",
   "id": "7c8a3fc6",
   "metadata": {},
   "source": [
    "### 3. Understanding Data"
   ]
  },
  {
   "cell_type": "markdown",
   "id": "3fff1fff",
   "metadata": {},
   "source": [
    "#### 3.1 Surface-Level Dataset Check"
   ]
  },
  {
   "cell_type": "markdown",
   "id": "1e91e48b",
   "metadata": {},
   "source": [
    " - Shape and Size\n",
    " - Columns Overview\n",
    " - Data Types\n",
    " - High-Level Summary\n",
    " - Descriptive Statistics"
   ]
  },
  {
   "cell_type": "markdown",
   "id": "2591de36",
   "metadata": {},
   "source": [
    "##### 3.1.1 Shape is understood because if it is too big, then we can sample it out for intensive operations  "
   ]
  },
  {
   "cell_type": "code",
   "execution_count": 4,
   "id": "7ed5ce58",
   "metadata": {},
   "outputs": [
    {
     "data": {
      "text/plain": [
       "(891, 12)"
      ]
     },
     "execution_count": 4,
     "metadata": {},
     "output_type": "execute_result"
    }
   ],
   "source": [
    "df.shape"
   ]
  },
  {
   "cell_type": "markdown",
   "id": "f597023a",
   "metadata": {},
   "source": [
    "##### 3.1.2 Column overview to see if it is needed to rename columns to follow snake_cases (all lowercase with underscores in btw) or semantic naming if they are not already"
   ]
  },
  {
   "cell_type": "code",
   "execution_count": 5,
   "id": "8f083998",
   "metadata": {},
   "outputs": [
    {
     "data": {
      "text/plain": [
       "['PassengerId',\n",
       " 'Survived',\n",
       " 'Pclass',\n",
       " 'Name',\n",
       " 'Sex',\n",
       " 'Age',\n",
       " 'SibSp',\n",
       " 'Parch',\n",
       " 'Ticket',\n",
       " 'Fare',\n",
       " 'Cabin',\n",
       " 'Embarked']"
      ]
     },
     "execution_count": 5,
     "metadata": {},
     "output_type": "execute_result"
    }
   ],
   "source": [
    "df.columns.tolist()"
   ]
  },
  {
   "cell_type": "markdown",
   "id": "8b8c24f4",
   "metadata": {},
   "source": [
    "###### Renaming Columns - 7 Methods"
   ]
  },
  {
   "cell_type": "markdown",
   "id": "7a7bf8a8",
   "metadata": {},
   "source": [
    "##### 3.1.2.1 Using Regular Expressions with re.sub() - Advanced Pattern Matching"
   ]
  },
  {
   "cell_type": "code",
   "execution_count": 6,
   "id": "387857f8",
   "metadata": {},
   "outputs": [],
   "source": [
    "import re"
   ]
  },
  {
   "cell_type": "code",
   "execution_count": 7,
   "id": "b9b4647f",
   "metadata": {},
   "outputs": [],
   "source": [
    "df.columns = [re.sub(r'(?<!^)(?=[A-Z])', '_',col).lower() for col in df.columns]"
   ]
  },
  {
   "cell_type": "markdown",
   "id": "1fdd8be0",
   "metadata": {},
   "source": [
    "##### 3.1.2.2 Using .rename Method (Selective Renaming)\n",
    "df.rename(columns={'OldColumnName':'NewColumnName','a':'b'})"
   ]
  },
  {
   "cell_type": "markdown",
   "id": "a2c8f288",
   "metadata": {},
   "source": [
    "##### 3.1.2.3 Renaming All Columns Using a List\n",
    "df.columns = ['column1','column2']"
   ]
  },
  {
   "cell_type": "markdown",
   "id": "66f599a9",
   "metadata": {},
   "source": [
    "##### 3.1.2.4 Using .set_axis() (Renaming all the columns)\n",
    "df.set_axis(['newname','new_name2'], axis=1, inplace=True) "
   ]
  },
  {
   "cell_type": "markdown",
   "id": "0344172d",
   "metadata": {},
   "source": [
    "###### 3.1.2.5 Using List Comprehension with str.replace() (Custom renaming Logic)\n",
    "df.columns = [col.replace(' ','_') for col in df.columns]\n",
    "\n",
    "or \n",
    "\n",
    "df.columns = [custom_function(col) for col in dfcolumns]"
   ]
  },
  {
   "cell_type": "markdown",
   "id": "ae064984",
   "metadata": {},
   "source": [
    "##### 3.1.2.6 Using map() with a Dictionary (Custom Mapping)\n",
    "df.columns = df.columns.map(lamba x: x.lower().replace(' ', '_')"
   ]
  },
  {
   "cell_type": "markdown",
   "id": "05bc0009",
   "metadata": {},
   "source": [
    "##### 3.1.2.7 Using .add_prefix() or .add_suffix()\n",
    "df = df.add_prefix('prefix_') ---- adds a string to the beginning of every column name\n",
    "df = df.add_suffix('_suffix') ---- adds a string to the end of every column name"
   ]
  },
  {
   "cell_type": "markdown",
   "id": "c99d9f6e",
   "metadata": {},
   "source": [
    "##### 3.1.3 Data Types to see if any object types are having/hiding numerical data"
   ]
  },
  {
   "cell_type": "code",
   "execution_count": 8,
   "id": "6d45c969",
   "metadata": {},
   "outputs": [
    {
     "data": {
      "text/plain": [
       "passenger_id      int64\n",
       "survived          int64\n",
       "pclass            int64\n",
       "name             object\n",
       "sex              object\n",
       "age             float64\n",
       "sib_sp            int64\n",
       "parch             int64\n",
       "ticket           object\n",
       "fare            float64\n",
       "cabin            object\n",
       "embarked         object\n",
       "dtype: object"
      ]
     },
     "execution_count": 8,
     "metadata": {},
     "output_type": "execute_result"
    }
   ],
   "source": [
    "df.dtypes"
   ]
  },
  {
   "cell_type": "markdown",
   "id": "afcf30c3",
   "metadata": {},
   "source": [
    "Here, we can add Sibsp and Parch to create 1 new feature called 'family_size' inplace of these 2 features where the passenger themselves would also be included\n",
    "- Helps prevent Multi-collinearity\n",
    "- Reduces feature Redundancy"
   ]
  },
  {
   "cell_type": "markdown",
   "id": "5f4fb5a6",
   "metadata": {},
   "source": [
    "And we can also encode the categorical variables:\n",
    "Sex, Pclass, Embarked"
   ]
  },
  {
   "cell_type": "markdown",
   "id": "b6d0dbfd",
   "metadata": {},
   "source": [
    "###### Creating New Feature"
   ]
  },
  {
   "cell_type": "code",
   "execution_count": 9,
   "id": "9f039f08",
   "metadata": {},
   "outputs": [],
   "source": [
    "df['family_size'] = df['sib_sp'] + df['parch'] + 1"
   ]
  },
  {
   "cell_type": "code",
   "execution_count": 10,
   "id": "3be23ad7",
   "metadata": {},
   "outputs": [],
   "source": [
    "df.drop(['sib_sp', 'parch'], axis = 1, inplace = True)\n",
    "# axis=0 ---- Down Rows\n",
    "# axis=1 ---- Across Columns ----- Drop these columns not rows"
   ]
  },
  {
   "cell_type": "code",
   "execution_count": 11,
   "id": "5fea6f7c",
   "metadata": {},
   "outputs": [
    {
     "data": {
      "text/html": [
       "<div>\n",
       "<style scoped>\n",
       "    .dataframe tbody tr th:only-of-type {\n",
       "        vertical-align: middle;\n",
       "    }\n",
       "\n",
       "    .dataframe tbody tr th {\n",
       "        vertical-align: top;\n",
       "    }\n",
       "\n",
       "    .dataframe thead th {\n",
       "        text-align: right;\n",
       "    }\n",
       "</style>\n",
       "<table border=\"1\" class=\"dataframe\">\n",
       "  <thead>\n",
       "    <tr style=\"text-align: right;\">\n",
       "      <th></th>\n",
       "      <th>passenger_id</th>\n",
       "      <th>survived</th>\n",
       "      <th>pclass</th>\n",
       "      <th>name</th>\n",
       "      <th>sex</th>\n",
       "      <th>age</th>\n",
       "      <th>ticket</th>\n",
       "      <th>fare</th>\n",
       "      <th>cabin</th>\n",
       "      <th>embarked</th>\n",
       "      <th>family_size</th>\n",
       "    </tr>\n",
       "  </thead>\n",
       "  <tbody>\n",
       "    <tr>\n",
       "      <th>0</th>\n",
       "      <td>1</td>\n",
       "      <td>0</td>\n",
       "      <td>3</td>\n",
       "      <td>Braund, Mr. Owen Harris</td>\n",
       "      <td>male</td>\n",
       "      <td>22.0</td>\n",
       "      <td>A/5 21171</td>\n",
       "      <td>7.2500</td>\n",
       "      <td>NaN</td>\n",
       "      <td>S</td>\n",
       "      <td>2</td>\n",
       "    </tr>\n",
       "    <tr>\n",
       "      <th>1</th>\n",
       "      <td>2</td>\n",
       "      <td>1</td>\n",
       "      <td>1</td>\n",
       "      <td>Cumings, Mrs. John Bradley (Florence Briggs Th...</td>\n",
       "      <td>female</td>\n",
       "      <td>38.0</td>\n",
       "      <td>PC 17599</td>\n",
       "      <td>71.2833</td>\n",
       "      <td>C85</td>\n",
       "      <td>C</td>\n",
       "      <td>2</td>\n",
       "    </tr>\n",
       "    <tr>\n",
       "      <th>2</th>\n",
       "      <td>3</td>\n",
       "      <td>1</td>\n",
       "      <td>3</td>\n",
       "      <td>Heikkinen, Miss. Laina</td>\n",
       "      <td>female</td>\n",
       "      <td>26.0</td>\n",
       "      <td>STON/O2. 3101282</td>\n",
       "      <td>7.9250</td>\n",
       "      <td>NaN</td>\n",
       "      <td>S</td>\n",
       "      <td>1</td>\n",
       "    </tr>\n",
       "    <tr>\n",
       "      <th>3</th>\n",
       "      <td>4</td>\n",
       "      <td>1</td>\n",
       "      <td>1</td>\n",
       "      <td>Futrelle, Mrs. Jacques Heath (Lily May Peel)</td>\n",
       "      <td>female</td>\n",
       "      <td>35.0</td>\n",
       "      <td>113803</td>\n",
       "      <td>53.1000</td>\n",
       "      <td>C123</td>\n",
       "      <td>S</td>\n",
       "      <td>2</td>\n",
       "    </tr>\n",
       "    <tr>\n",
       "      <th>4</th>\n",
       "      <td>5</td>\n",
       "      <td>0</td>\n",
       "      <td>3</td>\n",
       "      <td>Allen, Mr. William Henry</td>\n",
       "      <td>male</td>\n",
       "      <td>35.0</td>\n",
       "      <td>373450</td>\n",
       "      <td>8.0500</td>\n",
       "      <td>NaN</td>\n",
       "      <td>S</td>\n",
       "      <td>1</td>\n",
       "    </tr>\n",
       "  </tbody>\n",
       "</table>\n",
       "</div>"
      ],
      "text/plain": [
       "   passenger_id  survived  pclass  \\\n",
       "0             1         0       3   \n",
       "1             2         1       1   \n",
       "2             3         1       3   \n",
       "3             4         1       1   \n",
       "4             5         0       3   \n",
       "\n",
       "                                                name     sex   age  \\\n",
       "0                            Braund, Mr. Owen Harris    male  22.0   \n",
       "1  Cumings, Mrs. John Bradley (Florence Briggs Th...  female  38.0   \n",
       "2                             Heikkinen, Miss. Laina  female  26.0   \n",
       "3       Futrelle, Mrs. Jacques Heath (Lily May Peel)  female  35.0   \n",
       "4                           Allen, Mr. William Henry    male  35.0   \n",
       "\n",
       "             ticket     fare cabin embarked  family_size  \n",
       "0         A/5 21171   7.2500   NaN        S            2  \n",
       "1          PC 17599  71.2833   C85        C            2  \n",
       "2  STON/O2. 3101282   7.9250   NaN        S            1  \n",
       "3            113803  53.1000  C123        S            2  \n",
       "4            373450   8.0500   NaN        S            1  "
      ]
     },
     "execution_count": 11,
     "metadata": {},
     "output_type": "execute_result"
    }
   ],
   "source": [
    "df.head()"
   ]
  },
  {
   "cell_type": "markdown",
   "id": "e99d04e1",
   "metadata": {},
   "source": [
    "##### 3.1.4 Summary to understand non-null counts, data typesm memory usage\n",
    "Essential for spotting missing data before diving deep"
   ]
  },
  {
   "cell_type": "code",
   "execution_count": 12,
   "id": "df2f45ce",
   "metadata": {},
   "outputs": [
    {
     "name": "stdout",
     "output_type": "stream",
     "text": [
      "<class 'pandas.core.frame.DataFrame'>\n",
      "RangeIndex: 891 entries, 0 to 890\n",
      "Data columns (total 11 columns):\n",
      " #   Column        Non-Null Count  Dtype  \n",
      "---  ------        --------------  -----  \n",
      " 0   passenger_id  891 non-null    int64  \n",
      " 1   survived      891 non-null    int64  \n",
      " 2   pclass        891 non-null    int64  \n",
      " 3   name          891 non-null    object \n",
      " 4   sex           891 non-null    object \n",
      " 5   age           714 non-null    float64\n",
      " 6   ticket        891 non-null    object \n",
      " 7   fare          891 non-null    float64\n",
      " 8   cabin         204 non-null    object \n",
      " 9   embarked      889 non-null    object \n",
      " 10  family_size   891 non-null    int64  \n",
      "dtypes: float64(2), int64(4), object(5)\n",
      "memory usage: 76.7+ KB\n"
     ]
    }
   ],
   "source": [
    "df.info()"
   ]
  },
  {
   "cell_type": "markdown",
   "id": "f8b212db",
   "metadata": {},
   "source": [
    "##### 3.1.5 Descriptive Statistics to understand:\n",
    "- Distribution (mean, std, min, ,max)\n",
    "- Unique Counts (for categoricals)\n",
    "- Most Frequent Values (for mode detection)\n",
    "- % of nulls (indirectly)"
   ]
  },
  {
   "cell_type": "code",
   "execution_count": 13,
   "id": "3397d322",
   "metadata": {},
   "outputs": [
    {
     "data": {
      "text/html": [
       "<div>\n",
       "<style scoped>\n",
       "    .dataframe tbody tr th:only-of-type {\n",
       "        vertical-align: middle;\n",
       "    }\n",
       "\n",
       "    .dataframe tbody tr th {\n",
       "        vertical-align: top;\n",
       "    }\n",
       "\n",
       "    .dataframe thead th {\n",
       "        text-align: right;\n",
       "    }\n",
       "</style>\n",
       "<table border=\"1\" class=\"dataframe\">\n",
       "  <thead>\n",
       "    <tr style=\"text-align: right;\">\n",
       "      <th></th>\n",
       "      <th>count</th>\n",
       "      <th>unique</th>\n",
       "      <th>top</th>\n",
       "      <th>freq</th>\n",
       "      <th>mean</th>\n",
       "      <th>std</th>\n",
       "      <th>min</th>\n",
       "      <th>25%</th>\n",
       "      <th>50%</th>\n",
       "      <th>75%</th>\n",
       "      <th>max</th>\n",
       "    </tr>\n",
       "  </thead>\n",
       "  <tbody>\n",
       "    <tr>\n",
       "      <th>passenger_id</th>\n",
       "      <td>891.0</td>\n",
       "      <td>NaN</td>\n",
       "      <td>NaN</td>\n",
       "      <td>NaN</td>\n",
       "      <td>446.0</td>\n",
       "      <td>257.353842</td>\n",
       "      <td>1.0</td>\n",
       "      <td>223.5</td>\n",
       "      <td>446.0</td>\n",
       "      <td>668.5</td>\n",
       "      <td>891.0</td>\n",
       "    </tr>\n",
       "    <tr>\n",
       "      <th>survived</th>\n",
       "      <td>891.0</td>\n",
       "      <td>NaN</td>\n",
       "      <td>NaN</td>\n",
       "      <td>NaN</td>\n",
       "      <td>0.383838</td>\n",
       "      <td>0.486592</td>\n",
       "      <td>0.0</td>\n",
       "      <td>0.0</td>\n",
       "      <td>0.0</td>\n",
       "      <td>1.0</td>\n",
       "      <td>1.0</td>\n",
       "    </tr>\n",
       "    <tr>\n",
       "      <th>pclass</th>\n",
       "      <td>891.0</td>\n",
       "      <td>NaN</td>\n",
       "      <td>NaN</td>\n",
       "      <td>NaN</td>\n",
       "      <td>2.308642</td>\n",
       "      <td>0.836071</td>\n",
       "      <td>1.0</td>\n",
       "      <td>2.0</td>\n",
       "      <td>3.0</td>\n",
       "      <td>3.0</td>\n",
       "      <td>3.0</td>\n",
       "    </tr>\n",
       "    <tr>\n",
       "      <th>name</th>\n",
       "      <td>891</td>\n",
       "      <td>891</td>\n",
       "      <td>Braund, Mr. Owen Harris</td>\n",
       "      <td>1</td>\n",
       "      <td>NaN</td>\n",
       "      <td>NaN</td>\n",
       "      <td>NaN</td>\n",
       "      <td>NaN</td>\n",
       "      <td>NaN</td>\n",
       "      <td>NaN</td>\n",
       "      <td>NaN</td>\n",
       "    </tr>\n",
       "    <tr>\n",
       "      <th>sex</th>\n",
       "      <td>891</td>\n",
       "      <td>2</td>\n",
       "      <td>male</td>\n",
       "      <td>577</td>\n",
       "      <td>NaN</td>\n",
       "      <td>NaN</td>\n",
       "      <td>NaN</td>\n",
       "      <td>NaN</td>\n",
       "      <td>NaN</td>\n",
       "      <td>NaN</td>\n",
       "      <td>NaN</td>\n",
       "    </tr>\n",
       "    <tr>\n",
       "      <th>age</th>\n",
       "      <td>714.0</td>\n",
       "      <td>NaN</td>\n",
       "      <td>NaN</td>\n",
       "      <td>NaN</td>\n",
       "      <td>29.699118</td>\n",
       "      <td>14.526497</td>\n",
       "      <td>0.42</td>\n",
       "      <td>20.125</td>\n",
       "      <td>28.0</td>\n",
       "      <td>38.0</td>\n",
       "      <td>80.0</td>\n",
       "    </tr>\n",
       "    <tr>\n",
       "      <th>ticket</th>\n",
       "      <td>891</td>\n",
       "      <td>681</td>\n",
       "      <td>347082</td>\n",
       "      <td>7</td>\n",
       "      <td>NaN</td>\n",
       "      <td>NaN</td>\n",
       "      <td>NaN</td>\n",
       "      <td>NaN</td>\n",
       "      <td>NaN</td>\n",
       "      <td>NaN</td>\n",
       "      <td>NaN</td>\n",
       "    </tr>\n",
       "    <tr>\n",
       "      <th>fare</th>\n",
       "      <td>891.0</td>\n",
       "      <td>NaN</td>\n",
       "      <td>NaN</td>\n",
       "      <td>NaN</td>\n",
       "      <td>32.204208</td>\n",
       "      <td>49.693429</td>\n",
       "      <td>0.0</td>\n",
       "      <td>7.9104</td>\n",
       "      <td>14.4542</td>\n",
       "      <td>31.0</td>\n",
       "      <td>512.3292</td>\n",
       "    </tr>\n",
       "    <tr>\n",
       "      <th>cabin</th>\n",
       "      <td>204</td>\n",
       "      <td>147</td>\n",
       "      <td>B96 B98</td>\n",
       "      <td>4</td>\n",
       "      <td>NaN</td>\n",
       "      <td>NaN</td>\n",
       "      <td>NaN</td>\n",
       "      <td>NaN</td>\n",
       "      <td>NaN</td>\n",
       "      <td>NaN</td>\n",
       "      <td>NaN</td>\n",
       "    </tr>\n",
       "    <tr>\n",
       "      <th>embarked</th>\n",
       "      <td>889</td>\n",
       "      <td>3</td>\n",
       "      <td>S</td>\n",
       "      <td>644</td>\n",
       "      <td>NaN</td>\n",
       "      <td>NaN</td>\n",
       "      <td>NaN</td>\n",
       "      <td>NaN</td>\n",
       "      <td>NaN</td>\n",
       "      <td>NaN</td>\n",
       "      <td>NaN</td>\n",
       "    </tr>\n",
       "    <tr>\n",
       "      <th>family_size</th>\n",
       "      <td>891.0</td>\n",
       "      <td>NaN</td>\n",
       "      <td>NaN</td>\n",
       "      <td>NaN</td>\n",
       "      <td>1.904602</td>\n",
       "      <td>1.613459</td>\n",
       "      <td>1.0</td>\n",
       "      <td>1.0</td>\n",
       "      <td>1.0</td>\n",
       "      <td>2.0</td>\n",
       "      <td>11.0</td>\n",
       "    </tr>\n",
       "  </tbody>\n",
       "</table>\n",
       "</div>"
      ],
      "text/plain": [
       "              count unique                      top freq       mean  \\\n",
       "passenger_id  891.0    NaN                      NaN  NaN      446.0   \n",
       "survived      891.0    NaN                      NaN  NaN   0.383838   \n",
       "pclass        891.0    NaN                      NaN  NaN   2.308642   \n",
       "name            891    891  Braund, Mr. Owen Harris    1        NaN   \n",
       "sex             891      2                     male  577        NaN   \n",
       "age           714.0    NaN                      NaN  NaN  29.699118   \n",
       "ticket          891    681                   347082    7        NaN   \n",
       "fare          891.0    NaN                      NaN  NaN  32.204208   \n",
       "cabin           204    147                  B96 B98    4        NaN   \n",
       "embarked        889      3                        S  644        NaN   \n",
       "family_size   891.0    NaN                      NaN  NaN   1.904602   \n",
       "\n",
       "                     std   min     25%      50%    75%       max  \n",
       "passenger_id  257.353842   1.0   223.5    446.0  668.5     891.0  \n",
       "survived        0.486592   0.0     0.0      0.0    1.0       1.0  \n",
       "pclass          0.836071   1.0     2.0      3.0    3.0       3.0  \n",
       "name                 NaN   NaN     NaN      NaN    NaN       NaN  \n",
       "sex                  NaN   NaN     NaN      NaN    NaN       NaN  \n",
       "age            14.526497  0.42  20.125     28.0   38.0      80.0  \n",
       "ticket               NaN   NaN     NaN      NaN    NaN       NaN  \n",
       "fare           49.693429   0.0  7.9104  14.4542   31.0  512.3292  \n",
       "cabin                NaN   NaN     NaN      NaN    NaN       NaN  \n",
       "embarked             NaN   NaN     NaN      NaN    NaN       NaN  \n",
       "family_size     1.613459   1.0     1.0      1.0    2.0      11.0  "
      ]
     },
     "execution_count": 13,
     "metadata": {},
     "output_type": "execute_result"
    }
   ],
   "source": [
    "df.describe(include='all').T"
   ]
  },
  {
   "cell_type": "markdown",
   "id": "4df18b1d",
   "metadata": {},
   "source": [
    "#### 3.2 Null and NaN Analysis"
   ]
  },
  {
   "cell_type": "code",
   "execution_count": 14,
   "id": "9c8ac174",
   "metadata": {},
   "outputs": [
    {
     "data": {
      "text/plain": [
       "cabin           687\n",
       "age             177\n",
       "embarked          2\n",
       "passenger_id      0\n",
       "survived          0\n",
       "pclass            0\n",
       "name              0\n",
       "sex               0\n",
       "ticket            0\n",
       "fare              0\n",
       "family_size       0\n",
       "dtype: int64"
      ]
     },
     "execution_count": 14,
     "metadata": {},
     "output_type": "execute_result"
    }
   ],
   "source": [
    "df.isnull().sum().sort_values(ascending = False)"
   ]
  },
  {
   "cell_type": "code",
   "execution_count": 15,
   "id": "796edec8",
   "metadata": {},
   "outputs": [
    {
     "data": {
      "text/plain": [
       "passenger_id     0.000000\n",
       "survived         0.000000\n",
       "pclass           0.000000\n",
       "name             0.000000\n",
       "sex              0.000000\n",
       "age             19.865320\n",
       "ticket           0.000000\n",
       "fare             0.000000\n",
       "cabin           77.104377\n",
       "embarked         0.224467\n",
       "family_size      0.000000\n",
       "dtype: float64"
      ]
     },
     "execution_count": 15,
     "metadata": {},
     "output_type": "execute_result"
    }
   ],
   "source": [
    "df.isnull().mean()*100 # Percentage of Null Values"
   ]
  },
  {
   "cell_type": "markdown",
   "id": "615654f4",
   "metadata": {},
   "source": [
    "#### 3.3 Check for Duplicates"
   ]
  },
  {
   "cell_type": "code",
   "execution_count": 16,
   "id": "730aca94",
   "metadata": {},
   "outputs": [
    {
     "data": {
      "text/plain": [
       "0"
      ]
     },
     "execution_count": 16,
     "metadata": {},
     "output_type": "execute_result"
    }
   ],
   "source": [
    "df.duplicated().sum()"
   ]
  },
  {
   "cell_type": "markdown",
   "id": "5e65a332",
   "metadata": {},
   "source": [
    "#### 3.4 Uniqueness & Cardinality"
   ]
  },
  {
   "cell_type": "code",
   "execution_count": 17,
   "id": "0468889e",
   "metadata": {},
   "outputs": [
    {
     "name": "stdout",
     "output_type": "stream",
     "text": [
      "passenger_id 891\n",
      "survived 2\n",
      "pclass 3\n",
      "name 891\n",
      "sex 2\n",
      "age 88\n",
      "ticket 681\n",
      "fare 248\n",
      "cabin 147\n",
      "embarked 3\n",
      "family_size 9\n"
     ]
    }
   ],
   "source": [
    "for col in df.columns:\n",
    "    print(col, df[col].nunique())"
   ]
  },
  {
   "cell_type": "markdown",
   "id": "f367eeb4",
   "metadata": {},
   "source": [
    "### 4. Handling Null Values "
   ]
  },
  {
   "cell_type": "markdown",
   "id": "4b1efc5b",
   "metadata": {},
   "source": [
    "- Visual Inspection of Missing Data\n",
    "- Missing Data Correlation\n",
    "- Missingness vs Feature Distribution (for numerical features)\n",
    "- Imputing Missing values Using Basic Methods (mean, median, mode)\n",
    "- Impute Missing values using Predictive Modeling (KNN or Random Forest)\n",
    "- Drop Columns with Excessive Missing Values\n",
    "- Little's MCAR Test (if applicable) - Placeholder"
   ]
  },
  {
   "cell_type": "markdown",
   "id": "c1efd178",
   "metadata": {},
   "source": [
    "##### 4.1 Visual Inspection of Missing Data\n",
    "To understand missingness Pattern in each DataFrame"
   ]
  },
  {
   "cell_type": "code",
   "execution_count": 18,
   "id": "8463caa6",
   "metadata": {},
   "outputs": [
    {
     "data": {
      "text/plain": [
       "<function matplotlib.pyplot.show(close=None, block=None)>"
      ]
     },
     "execution_count": 18,
     "metadata": {},
     "output_type": "execute_result"
    },
    {
     "data": {
      "image/png": "[encoded data removed]",
      "text/plain": [
       "<Figure size 640x480 with 2 Axes>"
      ]
     },
     "metadata": {},
     "output_type": "display_data"
    }
   ],
   "source": [
    "sns.heatmap(df.isnull(), cbar = True, cmap = 'viridis')\n",
    "plt.title(f'Missing Data Heatmap')\n",
    "plt.show"
   ]
  },
  {
   "cell_type": "markdown",
   "id": "40417187",
   "metadata": {},
   "source": [
    "##### 4.2 Missing Data Correlation"
   ]
  },
  {
   "cell_type": "code",
   "execution_count": 19,
   "id": "eea1fe26",
   "metadata": {},
   "outputs": [
    {
     "data": {
      "image/png": "[encoded data removed]",
      "text/plain": [
       "<Figure size 640x480 with 2 Axes>"
      ]
     },
     "metadata": {},
     "output_type": "display_data"
    }
   ],
   "source": [
    "missing_corr = df.isnull().astype(int).corr()\n",
    "sns.heatmap(missing_corr, cmap='coolwarm', annot=True)\n",
    "plt.title('Correlation of Missing Data')\n",
    "plt.show()"
   ]
  },
  {
   "cell_type": "markdown",
   "id": "efc0ded1",
   "metadata": {},
   "source": [
    "##### 4.3 Missingness vs Feature Distribution (for numerical features)"
   ]
  },
  {
   "cell_type": "code",
   "execution_count": 20,
   "id": "65220e92",
   "metadata": {},
   "outputs": [
    {
     "data": {
      "image/png": "[encoded data removed]",
      "text/plain": [
       "<Figure size 640x480 with 1 Axes>"
      ]
     },
     "metadata": {},
     "output_type": "display_data"
    }
   ],
   "source": [
    "sns.histplot(df[df['age'].notnull()], color='blue', label='Available', kde=True)\n",
    "sns.histplot(df[df['age'].isnull()]['age'], color='red', label='Missing', kde=True)\n",
    "plt.legend()\n",
    "plt.title( 'Age Missing vs Distribution')\n",
    "plt.show()"
   ]
  },
  {
   "cell_type": "markdown",
   "id": "b833baa2",
   "metadata": {},
   "source": [
    "##### 4.4 Imputing Missing values Using Basic Methods (mean, median, mode)"
   ]
  },
  {
   "cell_type": "code",
   "execution_count": 21,
   "id": "ce6cd711",
   "metadata": {},
   "outputs": [],
   "source": [
    "def basic_impute(df):\n",
    "    \n",
    "    df.drop(columns='cabin', inplace=True)\n",
    "    \n",
    "    # For numerical columns\n",
    "    df['age'].fillna(df['age'].mean(), inplace = True)\n",
    "    \n",
    "    # For Categorical Columns\n",
    "    df['embarked'].fillna(df['embarked'].mode()[0], inplace = True)\n",
    "    return df"
   ]
  },
  {
   "cell_type": "markdown",
   "id": "964caa09",
   "metadata": {},
   "source": [
    "##### 4.5 Impute Missing values using Predictive Modeling (KNN or Random Forest)"
   ]
  },
  {
   "cell_type": "code",
   "execution_count": 22,
   "id": "bcce17d7",
   "metadata": {},
   "outputs": [],
   "source": [
    "from sklearn.impute import KNNImputer\n",
    "from sklearn.ensemble import RandomForestRegressor"
   ]
  },
  {
   "cell_type": "code",
   "execution_count": 23,
   "id": "93f491dd",
   "metadata": {},
   "outputs": [],
   "source": [
    "def predictive_impute(df):\n",
    "    \n",
    "    \n",
    "    # Example of KNN Imputer ---- Similarity based prediction\n",
    "    \n",
    "    knn_imputer = KNNImputer(n_neighbors=5)\n",
    "    \n",
    "    df[['age']] = knn_imputer.fit_transform(df[['age']])\n",
    "    \n",
    "    \n",
    "    # Random Forest ---- Ensemble based regression/classification\n",
    "    # Can be used for both numerical and categorical data\n",
    "    \n",
    "    rf_imputer = RandomForestRegressor(n_estimators=100, random_state=42)\n",
    "    \n",
    "    df['age'].fillna(df.groupby('pclass')['age'].transform('mean'), inplace=True)\n",
    "    \n",
    "    \n",
    "    return df"
   ]
  },
  {
   "cell_type": "markdown",
   "id": "55e6c5ad",
   "metadata": {},
   "source": [
    "##### Following all examples of predictice imputers, their usecases and caveats"
   ]
  },
  {
   "attachments": {
    "image.png": {
     "image/png": "[encoded data removed]"
    }
   },
   "cell_type": "markdown",
   "id": "d8f218be",
   "metadata": {},
   "source": [
    "![image.png](attachment:image.png)"
   ]
  },
  {
   "cell_type": "markdown",
   "id": "59c24fc2",
   "metadata": {},
   "source": [
    "##### Applying the above two imputation steps to DataFrame"
   ]
  },
  {
   "cell_type": "code",
   "execution_count": 24,
   "id": "11a22d04",
   "metadata": {},
   "outputs": [],
   "source": [
    "df1 = df.copy()\n",
    "df2 = df.copy()"
   ]
  },
  {
   "cell_type": "code",
   "execution_count": 25,
   "id": "d3705177",
   "metadata": {},
   "outputs": [],
   "source": [
    "df1 = basic_impute(df1)"
   ]
  },
  {
   "cell_type": "code",
   "execution_count": 26,
   "id": "891fdcaf",
   "metadata": {},
   "outputs": [
    {
     "data": {
      "text/html": [
       "<div>\n",
       "<style scoped>\n",
       "    .dataframe tbody tr th:only-of-type {\n",
       "        vertical-align: middle;\n",
       "    }\n",
       "\n",
       "    .dataframe tbody tr th {\n",
       "        vertical-align: top;\n",
       "    }\n",
       "\n",
       "    .dataframe thead th {\n",
       "        text-align: right;\n",
       "    }\n",
       "</style>\n",
       "<table border=\"1\" class=\"dataframe\">\n",
       "  <thead>\n",
       "    <tr style=\"text-align: right;\">\n",
       "      <th></th>\n",
       "      <th>passenger_id</th>\n",
       "      <th>survived</th>\n",
       "      <th>pclass</th>\n",
       "      <th>name</th>\n",
       "      <th>sex</th>\n",
       "      <th>age</th>\n",
       "      <th>ticket</th>\n",
       "      <th>fare</th>\n",
       "      <th>embarked</th>\n",
       "      <th>family_size</th>\n",
       "    </tr>\n",
       "  </thead>\n",
       "  <tbody>\n",
       "    <tr>\n",
       "      <th>0</th>\n",
       "      <td>1</td>\n",
       "      <td>0</td>\n",
       "      <td>3</td>\n",
       "      <td>Braund, Mr. Owen Harris</td>\n",
       "      <td>male</td>\n",
       "      <td>22.000000</td>\n",
       "      <td>A/5 21171</td>\n",
       "      <td>7.2500</td>\n",
       "      <td>S</td>\n",
       "      <td>2</td>\n",
       "    </tr>\n",
       "    <tr>\n",
       "      <th>1</th>\n",
       "      <td>2</td>\n",
       "      <td>1</td>\n",
       "      <td>1</td>\n",
       "      <td>Cumings, Mrs. John Bradley (Florence Briggs Th...</td>\n",
       "      <td>female</td>\n",
       "      <td>38.000000</td>\n",
       "      <td>PC 17599</td>\n",
       "      <td>71.2833</td>\n",
       "      <td>C</td>\n",
       "      <td>2</td>\n",
       "    </tr>\n",
       "    <tr>\n",
       "      <th>2</th>\n",
       "      <td>3</td>\n",
       "      <td>1</td>\n",
       "      <td>3</td>\n",
       "      <td>Heikkinen, Miss. Laina</td>\n",
       "      <td>female</td>\n",
       "      <td>26.000000</td>\n",
       "      <td>STON/O2. 3101282</td>\n",
       "      <td>7.9250</td>\n",
       "      <td>S</td>\n",
       "      <td>1</td>\n",
       "    </tr>\n",
       "    <tr>\n",
       "      <th>3</th>\n",
       "      <td>4</td>\n",
       "      <td>1</td>\n",
       "      <td>1</td>\n",
       "      <td>Futrelle, Mrs. Jacques Heath (Lily May Peel)</td>\n",
       "      <td>female</td>\n",
       "      <td>35.000000</td>\n",
       "      <td>113803</td>\n",
       "      <td>53.1000</td>\n",
       "      <td>S</td>\n",
       "      <td>2</td>\n",
       "    </tr>\n",
       "    <tr>\n",
       "      <th>4</th>\n",
       "      <td>5</td>\n",
       "      <td>0</td>\n",
       "      <td>3</td>\n",
       "      <td>Allen, Mr. William Henry</td>\n",
       "      <td>male</td>\n",
       "      <td>35.000000</td>\n",
       "      <td>373450</td>\n",
       "      <td>8.0500</td>\n",
       "      <td>S</td>\n",
       "      <td>1</td>\n",
       "    </tr>\n",
       "    <tr>\n",
       "      <th>...</th>\n",
       "      <td>...</td>\n",
       "      <td>...</td>\n",
       "      <td>...</td>\n",
       "      <td>...</td>\n",
       "      <td>...</td>\n",
       "      <td>...</td>\n",
       "      <td>...</td>\n",
       "      <td>...</td>\n",
       "      <td>...</td>\n",
       "      <td>...</td>\n",
       "    </tr>\n",
       "    <tr>\n",
       "      <th>886</th>\n",
       "      <td>887</td>\n",
       "      <td>0</td>\n",
       "      <td>2</td>\n",
       "      <td>Montvila, Rev. Juozas</td>\n",
       "      <td>male</td>\n",
       "      <td>27.000000</td>\n",
       "      <td>211536</td>\n",
       "      <td>13.0000</td>\n",
       "      <td>S</td>\n",
       "      <td>1</td>\n",
       "    </tr>\n",
       "    <tr>\n",
       "      <th>887</th>\n",
       "      <td>888</td>\n",
       "      <td>1</td>\n",
       "      <td>1</td>\n",
       "      <td>Graham, Miss. Margaret Edith</td>\n",
       "      <td>female</td>\n",
       "      <td>19.000000</td>\n",
       "      <td>112053</td>\n",
       "      <td>30.0000</td>\n",
       "      <td>S</td>\n",
       "      <td>1</td>\n",
       "    </tr>\n",
       "    <tr>\n",
       "      <th>888</th>\n",
       "      <td>889</td>\n",
       "      <td>0</td>\n",
       "      <td>3</td>\n",
       "      <td>Johnston, Miss. Catherine Helen \"Carrie\"</td>\n",
       "      <td>female</td>\n",
       "      <td>29.699118</td>\n",
       "      <td>W./C. 6607</td>\n",
       "      <td>23.4500</td>\n",
       "      <td>S</td>\n",
       "      <td>4</td>\n",
       "    </tr>\n",
       "    <tr>\n",
       "      <th>889</th>\n",
       "      <td>890</td>\n",
       "      <td>1</td>\n",
       "      <td>1</td>\n",
       "      <td>Behr, Mr. Karl Howell</td>\n",
       "      <td>male</td>\n",
       "      <td>26.000000</td>\n",
       "      <td>111369</td>\n",
       "      <td>30.0000</td>\n",
       "      <td>C</td>\n",
       "      <td>1</td>\n",
       "    </tr>\n",
       "    <tr>\n",
       "      <th>890</th>\n",
       "      <td>891</td>\n",
       "      <td>0</td>\n",
       "      <td>3</td>\n",
       "      <td>Dooley, Mr. Patrick</td>\n",
       "      <td>male</td>\n",
       "      <td>32.000000</td>\n",
       "      <td>370376</td>\n",
       "      <td>7.7500</td>\n",
       "      <td>Q</td>\n",
       "      <td>1</td>\n",
       "    </tr>\n",
       "  </tbody>\n",
       "</table>\n",
       "<p>891 rows × 10 columns</p>\n",
       "</div>"
      ],
      "text/plain": [
       "     passenger_id  survived  pclass  \\\n",
       "0               1         0       3   \n",
       "1               2         1       1   \n",
       "2               3         1       3   \n",
       "3               4         1       1   \n",
       "4               5         0       3   \n",
       "..            ...       ...     ...   \n",
       "886           887         0       2   \n",
       "887           888         1       1   \n",
       "888           889         0       3   \n",
       "889           890         1       1   \n",
       "890           891         0       3   \n",
       "\n",
       "                                                  name     sex        age  \\\n",
       "0                              Braund, Mr. Owen Harris    male  22.000000   \n",
       "1    Cumings, Mrs. John Bradley (Florence Briggs Th...  female  38.000000   \n",
       "2                               Heikkinen, Miss. Laina  female  26.000000   \n",
       "3         Futrelle, Mrs. Jacques Heath (Lily May Peel)  female  35.000000   \n",
       "4                             Allen, Mr. William Henry    male  35.000000   \n",
       "..                                                 ...     ...        ...   \n",
       "886                              Montvila, Rev. Juozas    male  27.000000   \n",
       "887                       Graham, Miss. Margaret Edith  female  19.000000   \n",
       "888           Johnston, Miss. Catherine Helen \"Carrie\"  female  29.699118   \n",
       "889                              Behr, Mr. Karl Howell    male  26.000000   \n",
       "890                                Dooley, Mr. Patrick    male  32.000000   \n",
       "\n",
       "               ticket     fare embarked  family_size  \n",
       "0           A/5 21171   7.2500        S            2  \n",
       "1            PC 17599  71.2833        C            2  \n",
       "2    STON/O2. 3101282   7.9250        S            1  \n",
       "3              113803  53.1000        S            2  \n",
       "4              373450   8.0500        S            1  \n",
       "..                ...      ...      ...          ...  \n",
       "886            211536  13.0000        S            1  \n",
       "887            112053  30.0000        S            1  \n",
       "888        W./C. 6607  23.4500        S            4  \n",
       "889            111369  30.0000        C            1  \n",
       "890            370376   7.7500        Q            1  \n",
       "\n",
       "[891 rows x 10 columns]"
      ]
     },
     "execution_count": 26,
     "metadata": {},
     "output_type": "execute_result"
    }
   ],
   "source": [
    "df1"
   ]
  },
  {
   "cell_type": "code",
   "execution_count": 27,
   "id": "181b3594",
   "metadata": {},
   "outputs": [],
   "source": [
    "df2 = predictive_impute(df2)"
   ]
  },
  {
   "cell_type": "code",
   "execution_count": 28,
   "id": "4d5359dc",
   "metadata": {},
   "outputs": [],
   "source": [
    "df2.drop(columns='cabin', axis =1, inplace=True)"
   ]
  },
  {
   "cell_type": "code",
   "execution_count": 29,
   "id": "83d0d3ac",
   "metadata": {},
   "outputs": [
    {
     "data": {
      "text/html": [
       "<div>\n",
       "<style scoped>\n",
       "    .dataframe tbody tr th:only-of-type {\n",
       "        vertical-align: middle;\n",
       "    }\n",
       "\n",
       "    .dataframe tbody tr th {\n",
       "        vertical-align: top;\n",
       "    }\n",
       "\n",
       "    .dataframe thead th {\n",
       "        text-align: right;\n",
       "    }\n",
       "</style>\n",
       "<table border=\"1\" class=\"dataframe\">\n",
       "  <thead>\n",
       "    <tr style=\"text-align: right;\">\n",
       "      <th></th>\n",
       "      <th>passenger_id</th>\n",
       "      <th>survived</th>\n",
       "      <th>pclass</th>\n",
       "      <th>name</th>\n",
       "      <th>sex</th>\n",
       "      <th>age</th>\n",
       "      <th>ticket</th>\n",
       "      <th>fare</th>\n",
       "      <th>embarked</th>\n",
       "      <th>family_size</th>\n",
       "    </tr>\n",
       "  </thead>\n",
       "  <tbody>\n",
       "    <tr>\n",
       "      <th>0</th>\n",
       "      <td>1</td>\n",
       "      <td>0</td>\n",
       "      <td>3</td>\n",
       "      <td>Braund, Mr. Owen Harris</td>\n",
       "      <td>male</td>\n",
       "      <td>22.000000</td>\n",
       "      <td>A/5 21171</td>\n",
       "      <td>7.2500</td>\n",
       "      <td>S</td>\n",
       "      <td>2</td>\n",
       "    </tr>\n",
       "    <tr>\n",
       "      <th>1</th>\n",
       "      <td>2</td>\n",
       "      <td>1</td>\n",
       "      <td>1</td>\n",
       "      <td>Cumings, Mrs. John Bradley (Florence Briggs Th...</td>\n",
       "      <td>female</td>\n",
       "      <td>38.000000</td>\n",
       "      <td>PC 17599</td>\n",
       "      <td>71.2833</td>\n",
       "      <td>C</td>\n",
       "      <td>2</td>\n",
       "    </tr>\n",
       "    <tr>\n",
       "      <th>2</th>\n",
       "      <td>3</td>\n",
       "      <td>1</td>\n",
       "      <td>3</td>\n",
       "      <td>Heikkinen, Miss. Laina</td>\n",
       "      <td>female</td>\n",
       "      <td>26.000000</td>\n",
       "      <td>STON/O2. 3101282</td>\n",
       "      <td>7.9250</td>\n",
       "      <td>S</td>\n",
       "      <td>1</td>\n",
       "    </tr>\n",
       "    <tr>\n",
       "      <th>3</th>\n",
       "      <td>4</td>\n",
       "      <td>1</td>\n",
       "      <td>1</td>\n",
       "      <td>Futrelle, Mrs. Jacques Heath (Lily May Peel)</td>\n",
       "      <td>female</td>\n",
       "      <td>35.000000</td>\n",
       "      <td>113803</td>\n",
       "      <td>53.1000</td>\n",
       "      <td>S</td>\n",
       "      <td>2</td>\n",
       "    </tr>\n",
       "    <tr>\n",
       "      <th>4</th>\n",
       "      <td>5</td>\n",
       "      <td>0</td>\n",
       "      <td>3</td>\n",
       "      <td>Allen, Mr. William Henry</td>\n",
       "      <td>male</td>\n",
       "      <td>35.000000</td>\n",
       "      <td>373450</td>\n",
       "      <td>8.0500</td>\n",
       "      <td>S</td>\n",
       "      <td>1</td>\n",
       "    </tr>\n",
       "    <tr>\n",
       "      <th>...</th>\n",
       "      <td>...</td>\n",
       "      <td>...</td>\n",
       "      <td>...</td>\n",
       "      <td>...</td>\n",
       "      <td>...</td>\n",
       "      <td>...</td>\n",
       "      <td>...</td>\n",
       "      <td>...</td>\n",
       "      <td>...</td>\n",
       "      <td>...</td>\n",
       "    </tr>\n",
       "    <tr>\n",
       "      <th>886</th>\n",
       "      <td>887</td>\n",
       "      <td>0</td>\n",
       "      <td>2</td>\n",
       "      <td>Montvila, Rev. Juozas</td>\n",
       "      <td>male</td>\n",
       "      <td>27.000000</td>\n",
       "      <td>211536</td>\n",
       "      <td>13.0000</td>\n",
       "      <td>S</td>\n",
       "      <td>1</td>\n",
       "    </tr>\n",
       "    <tr>\n",
       "      <th>887</th>\n",
       "      <td>888</td>\n",
       "      <td>1</td>\n",
       "      <td>1</td>\n",
       "      <td>Graham, Miss. Margaret Edith</td>\n",
       "      <td>female</td>\n",
       "      <td>19.000000</td>\n",
       "      <td>112053</td>\n",
       "      <td>30.0000</td>\n",
       "      <td>S</td>\n",
       "      <td>1</td>\n",
       "    </tr>\n",
       "    <tr>\n",
       "      <th>888</th>\n",
       "      <td>889</td>\n",
       "      <td>0</td>\n",
       "      <td>3</td>\n",
       "      <td>Johnston, Miss. Catherine Helen \"Carrie\"</td>\n",
       "      <td>female</td>\n",
       "      <td>29.699118</td>\n",
       "      <td>W./C. 6607</td>\n",
       "      <td>23.4500</td>\n",
       "      <td>S</td>\n",
       "      <td>4</td>\n",
       "    </tr>\n",
       "    <tr>\n",
       "      <th>889</th>\n",
       "      <td>890</td>\n",
       "      <td>1</td>\n",
       "      <td>1</td>\n",
       "      <td>Behr, Mr. Karl Howell</td>\n",
       "      <td>male</td>\n",
       "      <td>26.000000</td>\n",
       "      <td>111369</td>\n",
       "      <td>30.0000</td>\n",
       "      <td>C</td>\n",
       "      <td>1</td>\n",
       "    </tr>\n",
       "    <tr>\n",
       "      <th>890</th>\n",
       "      <td>891</td>\n",
       "      <td>0</td>\n",
       "      <td>3</td>\n",
       "      <td>Dooley, Mr. Patrick</td>\n",
       "      <td>male</td>\n",
       "      <td>32.000000</td>\n",
       "      <td>370376</td>\n",
       "      <td>7.7500</td>\n",
       "      <td>Q</td>\n",
       "      <td>1</td>\n",
       "    </tr>\n",
       "  </tbody>\n",
       "</table>\n",
       "<p>891 rows × 10 columns</p>\n",
       "</div>"
      ],
      "text/plain": [
       "     passenger_id  survived  pclass  \\\n",
       "0               1         0       3   \n",
       "1               2         1       1   \n",
       "2               3         1       3   \n",
       "3               4         1       1   \n",
       "4               5         0       3   \n",
       "..            ...       ...     ...   \n",
       "886           887         0       2   \n",
       "887           888         1       1   \n",
       "888           889         0       3   \n",
       "889           890         1       1   \n",
       "890           891         0       3   \n",
       "\n",
       "                                                  name     sex        age  \\\n",
       "0                              Braund, Mr. Owen Harris    male  22.000000   \n",
       "1    Cumings, Mrs. John Bradley (Florence Briggs Th...  female  38.000000   \n",
       "2                               Heikkinen, Miss. Laina  female  26.000000   \n",
       "3         Futrelle, Mrs. Jacques Heath (Lily May Peel)  female  35.000000   \n",
       "4                             Allen, Mr. William Henry    male  35.000000   \n",
       "..                                                 ...     ...        ...   \n",
       "886                              Montvila, Rev. Juozas    male  27.000000   \n",
       "887                       Graham, Miss. Margaret Edith  female  19.000000   \n",
       "888           Johnston, Miss. Catherine Helen \"Carrie\"  female  29.699118   \n",
       "889                              Behr, Mr. Karl Howell    male  26.000000   \n",
       "890                                Dooley, Mr. Patrick    male  32.000000   \n",
       "\n",
       "               ticket     fare embarked  family_size  \n",
       "0           A/5 21171   7.2500        S            2  \n",
       "1            PC 17599  71.2833        C            2  \n",
       "2    STON/O2. 3101282   7.9250        S            1  \n",
       "3              113803  53.1000        S            2  \n",
       "4              373450   8.0500        S            1  \n",
       "..                ...      ...      ...          ...  \n",
       "886            211536  13.0000        S            1  \n",
       "887            112053  30.0000        S            1  \n",
       "888        W./C. 6607  23.4500        S            4  \n",
       "889            111369  30.0000        C            1  \n",
       "890            370376   7.7500        Q            1  \n",
       "\n",
       "[891 rows x 10 columns]"
      ]
     },
     "execution_count": 29,
     "metadata": {},
     "output_type": "execute_result"
    }
   ],
   "source": [
    "df2"
   ]
  },
  {
   "cell_type": "markdown",
   "id": "00ee14ab",
   "metadata": {},
   "source": [
    "### 5. Converting Categorical Features into Numerical Features"
   ]
  },
  {
   "cell_type": "markdown",
   "id": "9253e3f8",
   "metadata": {},
   "source": [
    "- Label Encoding\n",
    "- One-Hot Encoding\n",
    "- Binary Encoding\n",
    "- Ordinal Encoding\n",
    "- Frequency Encoding\n",
    "- Target Encoding\n",
    "- Hashing Encoding\n",
    "- Count Encoding"
   ]
  },
  {
   "cell_type": "markdown",
   "id": "beb45973",
   "metadata": {},
   "source": [
    "##### 5.1 Label Encoding"
   ]
  },
  {
   "cell_type": "markdown",
   "id": "cb90d2dd",
   "metadata": {},
   "source": [
    "--> Good for ordinal [Categorical-With Order] variables or when you need unique integer labels"
   ]
  },
  {
   "cell_type": "markdown",
   "id": "d6f922fa",
   "metadata": {},
   "source": [
    "--> Converts each unique categorical value into a unique integer"
   ]
  },
  {
   "cell_type": "code",
   "execution_count": 30,
   "id": "f53dcf9d",
   "metadata": {},
   "outputs": [],
   "source": [
    "from sklearn.preprocessing import LabelEncoder"
   ]
  },
  {
   "cell_type": "code",
   "execution_count": 31,
   "id": "1989f96c",
   "metadata": {},
   "outputs": [],
   "source": [
    "def label_encoding(df, column):\n",
    "    le = LabelEncoder()\n",
    "    df[column] = le.fit_transform(df[column])\n",
    "    return df"
   ]
  },
  {
   "cell_type": "markdown",
   "id": "3e21fb34",
   "metadata": {},
   "source": [
    "##### 5.2 One-Hot Encoding"
   ]
  },
  {
   "cell_type": "markdown",
   "id": "70bf8db8",
   "metadata": {},
   "source": [
    " --> Creates separeate binary columns for each category of the original column\n",
    " \n",
    " --> Useful for nominal variables with no inherent order [Categorical - No order]"
   ]
  },
  {
   "cell_type": "code",
   "execution_count": 32,
   "id": "8bd7c034",
   "metadata": {},
   "outputs": [],
   "source": [
    "def one_hot_encoding(df,column):\n",
    "    df = pd.get_dummies(df, columns = [column], drop_first=False)\n",
    "    # drop_first=False to avoid Multi-collinearity\n",
    "    return df"
   ]
  },
  {
   "cell_type": "markdown",
   "id": "8cf9bdd7",
   "metadata": {},
   "source": [
    "##### 5.3 Binary Encoding"
   ]
  },
  {
   "cell_type": "markdown",
   "id": "f0053d70",
   "metadata": {},
   "source": [
    "--> Works well with high cardinality categories"
   ]
  },
  {
   "cell_type": "markdown",
   "id": "722e4bfd",
   "metadata": {},
   "source": [
    "--> Converts categories into binary code, then splits into columns"
   ]
  },
  {
   "cell_type": "markdown",
   "id": "ad987d3d",
   "metadata": {},
   "source": [
    "!pip install category_encoders\n",
    "\n",
    "import category_encoders as ce\n",
    "\n",
    "def binary_encoding(df, column):\n",
    "    encoder = ce.BinaryEncoder(cols=[column])\n",
    "    df = encoder.fit_transform(df)\n",
    "    return df"
   ]
  },
  {
   "cell_type": "markdown",
   "id": "a02bb4f7",
   "metadata": {},
   "source": [
    "##### 5.4 Ordinal Encoding"
   ]
  },
  {
   "cell_type": "markdown",
   "id": "f039caba",
   "metadata": {},
   "source": [
    "--> Perfect for ordered categories"
   ]
  },
  {
   "cell_type": "markdown",
   "id": "d70686f9",
   "metadata": {},
   "source": [
    "--> Assigns numbers based on the order/rank of the categories"
   ]
  },
  {
   "cell_type": "code",
   "execution_count": 33,
   "id": "974720b5",
   "metadata": {},
   "outputs": [],
   "source": [
    "def ordinal_encoding(df, column, mapping):\n",
    "    df[column] = df[column].map(mapping)\n",
    "    return df"
   ]
  },
  {
   "cell_type": "markdown",
   "id": "6ede0aac",
   "metadata": {},
   "source": [
    "##### 5.5 Frequency Encoding"
   ]
  },
  {
   "cell_type": "markdown",
   "id": "46fe6539",
   "metadata": {},
   "source": [
    "--> Replaces categories with how frequently they appear and applies normalization"
   ]
  },
  {
   "cell_type": "markdown",
   "id": "cb8b5bfe",
   "metadata": {},
   "source": [
    "--> Useful when categories have different frequencies and need a compact representation"
   ]
  },
  {
   "cell_type": "code",
   "execution_count": 34,
   "id": "adbe92a2",
   "metadata": {},
   "outputs": [],
   "source": [
    "def frequency_encoding(df, column):\n",
    "    freq_map = df[column].value_counts() / len(df)\n",
    "    df[column] = df[column].map(freq_map)\n",
    "    return df"
   ]
  },
  {
   "cell_type": "markdown",
   "id": "745a9193",
   "metadata": {},
   "source": [
    "##### 5.6 Target Encoding (Mean Encoding)"
   ]
  },
  {
   "cell_type": "markdown",
   "id": "c0fcfebb",
   "metadata": {},
   "source": [
    "--> Replaces categories with the mean of the target variable for each categpry"
   ]
  },
  {
   "cell_type": "markdown",
   "id": "bba31ed7",
   "metadata": {},
   "source": [
    "--> Best for improving model performance when there's a strong relationship with the target variable"
   ]
  },
  {
   "cell_type": "code",
   "execution_count": 35,
   "id": "663c1798",
   "metadata": {},
   "outputs": [],
   "source": [
    "def target_encoding(df, column, target):\n",
    "    mean_encoded = df.groupby(column)[target].mean()\n",
    "    df[column] = df[column].map(mean_encoded)\n",
    "    return df"
   ]
  },
  {
   "cell_type": "markdown",
   "id": "4e37987c",
   "metadata": {},
   "source": [
    "##### 5.7 Hashing Encoding (Hashing Trick)"
   ]
  },
  {
   "cell_type": "markdown",
   "id": "87bf83fd",
   "metadata": {},
   "source": [
    "--> Applies a hash function to categories to assign them into a fixed number of buckets "
   ]
  },
  {
   "cell_type": "markdown",
   "id": "e37c7b2a",
   "metadata": {},
   "source": [
    "--> Works well with high cardinality and can be used for text features"
   ]
  },
  {
   "cell_type": "markdown",
   "id": "655f9e2e",
   "metadata": {},
   "source": [
    "from sklearn.feature_extraction import FeatureHasher\n",
    "\n",
    "def hashing_encoding(df, column, n_features):\n",
    "\n",
    "    hasher = FeatureHasher(n_features=n_features, input_type='string')\n",
    "    \n",
    "    hashed_features = hasher.transform(df[column].astype(str))\n",
    "    \n",
    "    df_hashed = pd.DataFrame(hashed_features.toarray(), columns=[f'{column}_hashed_{i}' for i in range(n_features)])\n",
    "    \n",
    "    df = pd.concat([df, df_hashed], axis=1).drop(columns=[column])\n",
    "    return df\n"
   ]
  },
  {
   "cell_type": "markdown",
   "id": "1b0f46d8",
   "metadata": {},
   "source": [
    "##### 5.8 Count Encoding"
   ]
  },
  {
   "cell_type": "markdown",
   "id": "091d2174",
   "metadata": {},
   "source": [
    "--> Converts categories into number of times it appears in the data (very similar to fequency encoding, but without normalization)"
   ]
  },
  {
   "cell_type": "markdown",
   "id": "fc855d12",
   "metadata": {},
   "source": [
    "--> Useful when you care about the frequency of categories"
   ]
  },
  {
   "cell_type": "code",
   "execution_count": 36,
   "id": "8e2ae7d7",
   "metadata": {},
   "outputs": [],
   "source": [
    "def count_encoding(df, column):\n",
    "    count_map = df[column].value_counts()\n",
    "    df[column] = df[column].map(count_map)\n",
    "    return df"
   ]
  },
  {
   "cell_type": "code",
   "execution_count": 37,
   "id": "47ca7fc9",
   "metadata": {},
   "outputs": [],
   "source": [
    "dff11 = df1.copy()\n",
    "dff12 = df1.copy()\n",
    "\n",
    "dff21 = df2.copy()\n",
    "dff22 = df2.copy()"
   ]
  },
  {
   "cell_type": "code",
   "execution_count": 38,
   "id": "2d089793",
   "metadata": {},
   "outputs": [],
   "source": [
    "dff11 = one_hot_encoding(dff11, 'embarked')\n",
    "dff11 = one_hot_encoding(dff11, 'sex')"
   ]
  },
  {
   "cell_type": "code",
   "execution_count": 39,
   "id": "2a4aa6a4",
   "metadata": {},
   "outputs": [],
   "source": [
    "dff12 = label_encoding(dff12, 'embarked')\n",
    "dff12 = label_encoding(dff12, 'sex')"
   ]
  },
  {
   "cell_type": "code",
   "execution_count": 40,
   "id": "4aebb3d9",
   "metadata": {},
   "outputs": [],
   "source": [
    "dff21 = one_hot_encoding(dff21, 'embarked')\n",
    "dff21 = one_hot_encoding(dff21, 'sex')"
   ]
  },
  {
   "cell_type": "code",
   "execution_count": 41,
   "id": "511c3320",
   "metadata": {},
   "outputs": [],
   "source": [
    "dff22 = label_encoding(dff22, 'embarked')\n",
    "dff22 = label_encoding(dff22, 'sex')"
   ]
  },
  {
   "cell_type": "code",
   "execution_count": 42,
   "id": "1fdb4da1",
   "metadata": {},
   "outputs": [
    {
     "data": {
      "text/html": [
       "<div>\n",
       "<style scoped>\n",
       "    .dataframe tbody tr th:only-of-type {\n",
       "        vertical-align: middle;\n",
       "    }\n",
       "\n",
       "    .dataframe tbody tr th {\n",
       "        vertical-align: top;\n",
       "    }\n",
       "\n",
       "    .dataframe thead th {\n",
       "        text-align: right;\n",
       "    }\n",
       "</style>\n",
       "<table border=\"1\" class=\"dataframe\">\n",
       "  <thead>\n",
       "    <tr style=\"text-align: right;\">\n",
       "      <th></th>\n",
       "      <th>passenger_id</th>\n",
       "      <th>survived</th>\n",
       "      <th>pclass</th>\n",
       "      <th>name</th>\n",
       "      <th>age</th>\n",
       "      <th>ticket</th>\n",
       "      <th>fare</th>\n",
       "      <th>family_size</th>\n",
       "      <th>embarked_C</th>\n",
       "      <th>embarked_Q</th>\n",
       "      <th>embarked_S</th>\n",
       "      <th>sex_female</th>\n",
       "      <th>sex_male</th>\n",
       "    </tr>\n",
       "  </thead>\n",
       "  <tbody>\n",
       "    <tr>\n",
       "      <th>0</th>\n",
       "      <td>1</td>\n",
       "      <td>0</td>\n",
       "      <td>3</td>\n",
       "      <td>Braund, Mr. Owen Harris</td>\n",
       "      <td>22.0</td>\n",
       "      <td>A/5 21171</td>\n",
       "      <td>7.2500</td>\n",
       "      <td>2</td>\n",
       "      <td>0</td>\n",
       "      <td>0</td>\n",
       "      <td>1</td>\n",
       "      <td>0</td>\n",
       "      <td>1</td>\n",
       "    </tr>\n",
       "    <tr>\n",
       "      <th>1</th>\n",
       "      <td>2</td>\n",
       "      <td>1</td>\n",
       "      <td>1</td>\n",
       "      <td>Cumings, Mrs. John Bradley (Florence Briggs Th...</td>\n",
       "      <td>38.0</td>\n",
       "      <td>PC 17599</td>\n",
       "      <td>71.2833</td>\n",
       "      <td>2</td>\n",
       "      <td>1</td>\n",
       "      <td>0</td>\n",
       "      <td>0</td>\n",
       "      <td>1</td>\n",
       "      <td>0</td>\n",
       "    </tr>\n",
       "    <tr>\n",
       "      <th>2</th>\n",
       "      <td>3</td>\n",
       "      <td>1</td>\n",
       "      <td>3</td>\n",
       "      <td>Heikkinen, Miss. Laina</td>\n",
       "      <td>26.0</td>\n",
       "      <td>STON/O2. 3101282</td>\n",
       "      <td>7.9250</td>\n",
       "      <td>1</td>\n",
       "      <td>0</td>\n",
       "      <td>0</td>\n",
       "      <td>1</td>\n",
       "      <td>1</td>\n",
       "      <td>0</td>\n",
       "    </tr>\n",
       "  </tbody>\n",
       "</table>\n",
       "</div>"
      ],
      "text/plain": [
       "   passenger_id  survived  pclass  \\\n",
       "0             1         0       3   \n",
       "1             2         1       1   \n",
       "2             3         1       3   \n",
       "\n",
       "                                                name   age            ticket  \\\n",
       "0                            Braund, Mr. Owen Harris  22.0         A/5 21171   \n",
       "1  Cumings, Mrs. John Bradley (Florence Briggs Th...  38.0          PC 17599   \n",
       "2                             Heikkinen, Miss. Laina  26.0  STON/O2. 3101282   \n",
       "\n",
       "      fare  family_size  embarked_C  embarked_Q  embarked_S  sex_female  \\\n",
       "0   7.2500            2           0           0           1           0   \n",
       "1  71.2833            2           1           0           0           1   \n",
       "2   7.9250            1           0           0           1           1   \n",
       "\n",
       "   sex_male  \n",
       "0         1  \n",
       "1         0  \n",
       "2         0  "
      ]
     },
     "execution_count": 42,
     "metadata": {},
     "output_type": "execute_result"
    }
   ],
   "source": [
    "dff11.head(3)"
   ]
  },
  {
   "cell_type": "code",
   "execution_count": 43,
   "id": "289b851d",
   "metadata": {},
   "outputs": [
    {
     "data": {
      "text/html": [
       "<div>\n",
       "<style scoped>\n",
       "    .dataframe tbody tr th:only-of-type {\n",
       "        vertical-align: middle;\n",
       "    }\n",
       "\n",
       "    .dataframe tbody tr th {\n",
       "        vertical-align: top;\n",
       "    }\n",
       "\n",
       "    .dataframe thead th {\n",
       "        text-align: right;\n",
       "    }\n",
       "</style>\n",
       "<table border=\"1\" class=\"dataframe\">\n",
       "  <thead>\n",
       "    <tr style=\"text-align: right;\">\n",
       "      <th></th>\n",
       "      <th>passenger_id</th>\n",
       "      <th>survived</th>\n",
       "      <th>pclass</th>\n",
       "      <th>name</th>\n",
       "      <th>sex</th>\n",
       "      <th>age</th>\n",
       "      <th>ticket</th>\n",
       "      <th>fare</th>\n",
       "      <th>embarked</th>\n",
       "      <th>family_size</th>\n",
       "    </tr>\n",
       "  </thead>\n",
       "  <tbody>\n",
       "    <tr>\n",
       "      <th>0</th>\n",
       "      <td>1</td>\n",
       "      <td>0</td>\n",
       "      <td>3</td>\n",
       "      <td>Braund, Mr. Owen Harris</td>\n",
       "      <td>1</td>\n",
       "      <td>22.0</td>\n",
       "      <td>A/5 21171</td>\n",
       "      <td>7.2500</td>\n",
       "      <td>2</td>\n",
       "      <td>2</td>\n",
       "    </tr>\n",
       "    <tr>\n",
       "      <th>1</th>\n",
       "      <td>2</td>\n",
       "      <td>1</td>\n",
       "      <td>1</td>\n",
       "      <td>Cumings, Mrs. John Bradley (Florence Briggs Th...</td>\n",
       "      <td>0</td>\n",
       "      <td>38.0</td>\n",
       "      <td>PC 17599</td>\n",
       "      <td>71.2833</td>\n",
       "      <td>0</td>\n",
       "      <td>2</td>\n",
       "    </tr>\n",
       "    <tr>\n",
       "      <th>2</th>\n",
       "      <td>3</td>\n",
       "      <td>1</td>\n",
       "      <td>3</td>\n",
       "      <td>Heikkinen, Miss. Laina</td>\n",
       "      <td>0</td>\n",
       "      <td>26.0</td>\n",
       "      <td>STON/O2. 3101282</td>\n",
       "      <td>7.9250</td>\n",
       "      <td>2</td>\n",
       "      <td>1</td>\n",
       "    </tr>\n",
       "  </tbody>\n",
       "</table>\n",
       "</div>"
      ],
      "text/plain": [
       "   passenger_id  survived  pclass  \\\n",
       "0             1         0       3   \n",
       "1             2         1       1   \n",
       "2             3         1       3   \n",
       "\n",
       "                                                name  sex   age  \\\n",
       "0                            Braund, Mr. Owen Harris    1  22.0   \n",
       "1  Cumings, Mrs. John Bradley (Florence Briggs Th...    0  38.0   \n",
       "2                             Heikkinen, Miss. Laina    0  26.0   \n",
       "\n",
       "             ticket     fare  embarked  family_size  \n",
       "0         A/5 21171   7.2500         2            2  \n",
       "1          PC 17599  71.2833         0            2  \n",
       "2  STON/O2. 3101282   7.9250         2            1  "
      ]
     },
     "execution_count": 43,
     "metadata": {},
     "output_type": "execute_result"
    }
   ],
   "source": [
    "dff22.head(3)"
   ]
  },
  {
   "cell_type": "code",
   "execution_count": 44,
   "id": "daa78570",
   "metadata": {},
   "outputs": [
    {
     "data": {
      "text/html": [
       "<div>\n",
       "<style scoped>\n",
       "    .dataframe tbody tr th:only-of-type {\n",
       "        vertical-align: middle;\n",
       "    }\n",
       "\n",
       "    .dataframe tbody tr th {\n",
       "        vertical-align: top;\n",
       "    }\n",
       "\n",
       "    .dataframe thead th {\n",
       "        text-align: right;\n",
       "    }\n",
       "</style>\n",
       "<table border=\"1\" class=\"dataframe\">\n",
       "  <thead>\n",
       "    <tr style=\"text-align: right;\">\n",
       "      <th></th>\n",
       "      <th>passenger_id</th>\n",
       "      <th>survived</th>\n",
       "      <th>pclass</th>\n",
       "      <th>name</th>\n",
       "      <th>sex</th>\n",
       "      <th>age</th>\n",
       "      <th>ticket</th>\n",
       "      <th>fare</th>\n",
       "      <th>cabin</th>\n",
       "      <th>embarked</th>\n",
       "      <th>family_size</th>\n",
       "    </tr>\n",
       "  </thead>\n",
       "  <tbody>\n",
       "    <tr>\n",
       "      <th>0</th>\n",
       "      <td>1</td>\n",
       "      <td>0</td>\n",
       "      <td>3</td>\n",
       "      <td>Braund, Mr. Owen Harris</td>\n",
       "      <td>male</td>\n",
       "      <td>22.0</td>\n",
       "      <td>A/5 21171</td>\n",
       "      <td>7.2500</td>\n",
       "      <td>NaN</td>\n",
       "      <td>S</td>\n",
       "      <td>2</td>\n",
       "    </tr>\n",
       "    <tr>\n",
       "      <th>1</th>\n",
       "      <td>2</td>\n",
       "      <td>1</td>\n",
       "      <td>1</td>\n",
       "      <td>Cumings, Mrs. John Bradley (Florence Briggs Th...</td>\n",
       "      <td>female</td>\n",
       "      <td>38.0</td>\n",
       "      <td>PC 17599</td>\n",
       "      <td>71.2833</td>\n",
       "      <td>C85</td>\n",
       "      <td>C</td>\n",
       "      <td>2</td>\n",
       "    </tr>\n",
       "    <tr>\n",
       "      <th>2</th>\n",
       "      <td>3</td>\n",
       "      <td>1</td>\n",
       "      <td>3</td>\n",
       "      <td>Heikkinen, Miss. Laina</td>\n",
       "      <td>female</td>\n",
       "      <td>26.0</td>\n",
       "      <td>STON/O2. 3101282</td>\n",
       "      <td>7.9250</td>\n",
       "      <td>NaN</td>\n",
       "      <td>S</td>\n",
       "      <td>1</td>\n",
       "    </tr>\n",
       "  </tbody>\n",
       "</table>\n",
       "</div>"
      ],
      "text/plain": [
       "   passenger_id  survived  pclass  \\\n",
       "0             1         0       3   \n",
       "1             2         1       1   \n",
       "2             3         1       3   \n",
       "\n",
       "                                                name     sex   age  \\\n",
       "0                            Braund, Mr. Owen Harris    male  22.0   \n",
       "1  Cumings, Mrs. John Bradley (Florence Briggs Th...  female  38.0   \n",
       "2                             Heikkinen, Miss. Laina  female  26.0   \n",
       "\n",
       "             ticket     fare cabin embarked  family_size  \n",
       "0         A/5 21171   7.2500   NaN        S            2  \n",
       "1          PC 17599  71.2833   C85        C            2  \n",
       "2  STON/O2. 3101282   7.9250   NaN        S            1  "
      ]
     },
     "execution_count": 44,
     "metadata": {},
     "output_type": "execute_result"
    }
   ],
   "source": [
    "df.head(3)"
   ]
  },
  {
   "cell_type": "markdown",
   "id": "855a73f0",
   "metadata": {},
   "source": [
    "### 6. Normalization [Scales btw 0 and 1]"
   ]
  },
  {
   "cell_type": "markdown",
   "id": "766f02b7",
   "metadata": {},
   "source": [
    "#### 6.1 Min-Max Normalization"
   ]
  },
  {
   "cell_type": "markdown",
   "id": "a428a45c",
   "metadata": {},
   "source": [
    "--> Scales features linearly to a fixed range, usually between 0 and 1"
   ]
  },
  {
   "cell_type": "code",
   "execution_count": 45,
   "id": "3cbb54a0",
   "metadata": {},
   "outputs": [],
   "source": [
    "from sklearn.preprocessing import MinMaxScaler\n",
    "\n",
    "def normalize_minmax(df, columns):\n",
    "    scaler = MinMaxScaler()\n",
    "    df_normalized = df.copy()\n",
    "    df_normalized[columns] = scaler.fit_transform(df[columns])\n",
    "    return df_normalized"
   ]
  },
  {
   "cell_type": "markdown",
   "id": "a38d9f48",
   "metadata": {},
   "source": [
    "#### 6.2 MaxAbs Normalization"
   ]
  },
  {
   "cell_type": "markdown",
   "id": "c83c49fb",
   "metadata": {},
   "source": [
    "--> Scales features by their maximum absolute value, preserving sparsity and sign"
   ]
  },
  {
   "cell_type": "code",
   "execution_count": 46,
   "id": "7ea54a30",
   "metadata": {},
   "outputs": [],
   "source": [
    "from sklearn.preprocessing import MaxAbsScaler\n",
    "\n",
    "def normalize_maxabs(df, columns):\n",
    "    scaler = MaxAbsScaler()\n",
    "    df_normalized = df.copy()\n",
    "    df_normalized[columns] = scaler.fit_transform(df[columns])\n",
    "    return df_normalized"
   ]
  },
  {
   "cell_type": "markdown",
   "id": "d9d703a3",
   "metadata": {},
   "source": [
    "#### 6.3 Quantile Normalization (Uniform)"
   ]
  },
  {
   "cell_type": "markdown",
   "id": "87329b49",
   "metadata": {},
   "source": [
    "--> Transforms features to follow a uniform distribution using quantile information"
   ]
  },
  {
   "cell_type": "code",
   "execution_count": 47,
   "id": "77db9319",
   "metadata": {},
   "outputs": [],
   "source": [
    "from sklearn.preprocessing import QuantileTransformer\n",
    "\n",
    "def normalize_quantile_uniform(df, columns):\n",
    "    transformer = QuantileTransformer(output_distribution='uniform')\n",
    "    df_normalized = df.copy()\n",
    "    df_normalized[columns] = transformer.fit_transform(df[columns])\n",
    "    return df_normalized"
   ]
  },
  {
   "cell_type": "markdown",
   "id": "d2e5edc5",
   "metadata": {},
   "source": [
    "### 7. Standardization Functions (center to mean = 0, std = 1)"
   ]
  },
  {
   "cell_type": "markdown",
   "id": "b6f07ee0",
   "metadata": {},
   "source": [
    "#### 7.1 Z-Score Standardization"
   ]
  },
  {
   "cell_type": "markdown",
   "id": "6e0edac0",
   "metadata": {},
   "source": [
    "--> Centers features around mean 0 and scales them based on standard deviation"
   ]
  },
  {
   "cell_type": "code",
   "execution_count": 48,
   "id": "5f03d398",
   "metadata": {},
   "outputs": [],
   "source": [
    "from sklearn.preprocessing import StandardScaler\n",
    "\n",
    "def standardize_zscore(df, columns):\n",
    "    scaler = StandardScaler()\n",
    "    df_standardized = df.copy()\n",
    "    df_standardized[columns] = scaler.fit_transform(df[columns])\n",
    "    return df_standardized"
   ]
  },
  {
   "cell_type": "markdown",
   "id": "d60970bc",
   "metadata": {},
   "source": [
    "#### 7.2 Robust Standardization (with medeian and IQR)"
   ]
  },
  {
   "cell_type": "markdown",
   "id": "cce8dda9",
   "metadata": {},
   "source": [
    "--> Uses median and interquartile range to scale features, robust to outliers"
   ]
  },
  {
   "cell_type": "code",
   "execution_count": 49,
   "id": "883a6efb",
   "metadata": {},
   "outputs": [],
   "source": [
    "from sklearn.preprocessing import RobustScaler\n",
    "\n",
    "def standardize_robust(df, columns):\n",
    "    scaler = RobustScaler()\n",
    "    df_standardized = df.copy()\n",
    "    df_standardized[columns] = scaler.fit_transform(df[columns])\n",
    "    return df_standardized"
   ]
  },
  {
   "cell_type": "markdown",
   "id": "92f50e0e",
   "metadata": {},
   "source": [
    "#### 7.3 Power Transformation (Yeo-Johnson)"
   ]
  },
  {
   "cell_type": "markdown",
   "id": "de3a5967",
   "metadata": {},
   "source": [
    "--> Applies a non-linear transformation to make data more Gaussian-like"
   ]
  },
  {
   "cell_type": "code",
   "execution_count": 50,
   "id": "f09c1aa6",
   "metadata": {},
   "outputs": [],
   "source": [
    "from sklearn.preprocessing import PowerTransformer\n",
    "\n",
    "def standardize_power(df, columns):\n",
    "    transformer = PowerTransformer(method='yeo-johnson')\n",
    "    df_standardized = df.copy()\n",
    "    df_standardized[columns] = transformer.fit_transform(df[columns])\n",
    "    return df_standardized"
   ]
  },
  {
   "cell_type": "code",
   "execution_count": 51,
   "id": "5af99048",
   "metadata": {},
   "outputs": [],
   "source": [
    "columns = ['age', 'fare', 'family_size']\n",
    "dff11_standardized = standardize_zscore(dff11, columns)"
   ]
  },
  {
   "cell_type": "markdown",
   "id": "6d5ec753",
   "metadata": {},
   "source": [
    "### 8. Outlier Handling "
   ]
  },
  {
   "cell_type": "markdown",
   "id": "5c989836",
   "metadata": {},
   "source": [
    "#### 8.1 Statistical Methods\n",
    "- Box Plot (IQR Method)\n",
    "- Z-score Method\n",
    "- Modified Z-score Method\n",
    "\n",
    "#### 8.2 Visualization Methods\n",
    "- Box Plot\n",
    "- Violin Plot \n",
    "- Scatter Plot\n",
    "\n",
    "#### 8.3 Machine Learning Based Methods\n",
    "- Isolation Forest\n",
    "- Local Outlier Factor (LOF)\n",
    "- DBSCAN Clustering (Density-based)\n",
    "\n",
    "#### 8.4 Handling Outliers\n",
    "- Remove them\n",
    "- Cap them (Winsorization)\n",
    "- Replace them with Median or Mean)"
   ]
  },
  {
   "cell_type": "markdown",
   "id": "7f21002f",
   "metadata": {},
   "source": [
    "#### 8.1 Statistical Methods"
   ]
  },
  {
   "cell_type": "markdown",
   "id": "186dad61",
   "metadata": {},
   "source": [
    "#### 8.1.1 Box Plot (IQR Method)"
   ]
  },
  {
   "cell_type": "markdown",
   "id": "04230bb2",
   "metadata": {},
   "source": [
    "- Uses the IQR to detect values that are too far from the middle 50% of the data"
   ]
  },
  {
   "cell_type": "code",
   "execution_count": 52,
   "id": "4303a9ff",
   "metadata": {},
   "outputs": [],
   "source": [
    "def detect_outliers_iqr(df, column):\n",
    "    Q1 = df[column].quantile(0.25)\n",
    "    Q3 = df[column].quantile(0.75)\n",
    "    IQR = Q3 - Q1\n",
    "    lower = Q1 - 1.5 * IQR\n",
    "    upper = Q3 + 1.5 * IQR\n",
    "    return df[(df[column] < lower) | (df[column] > upper)]"
   ]
  },
  {
   "cell_type": "markdown",
   "id": "01afc8cd",
   "metadata": {},
   "source": [
    "#### 8.1.2 Z-score Method"
   ]
  },
  {
   "cell_type": "markdown",
   "id": "8b222112",
   "metadata": {},
   "source": [
    "- Measures how many standard deviations a value is from the mean"
   ]
  },
  {
   "cell_type": "code",
   "execution_count": 53,
   "id": "50750465",
   "metadata": {},
   "outputs": [],
   "source": [
    "from scipy.stats import zscore\n",
    "\n",
    "def detect_outliers_z(df, column, threshold=3):\n",
    "    z_scores = zscore(df[column])\n",
    "    return df[(abs(z_scores) > threshold)]"
   ]
  },
  {
   "cell_type": "markdown",
   "id": "5bfc2803",
   "metadata": {},
   "source": [
    "#### 8.1.3 Modified Z-score Method"
   ]
  },
  {
   "cell_type": "markdown",
   "id": "e26867ef",
   "metadata": {},
   "source": [
    "- A robust alternative to z-score using median and MAD (Mean Absolute Deviation)"
   ]
  },
  {
   "cell_type": "code",
   "execution_count": 54,
   "id": "e34463f5",
   "metadata": {},
   "outputs": [],
   "source": [
    "import numpy as np\n",
    "\n",
    "def detect_outliers_modified_z(df, column, threshold=3.5):\n",
    "    median = df[column].median()\n",
    "    mad = np.median(np.abs(df[column] - median))\n",
    "    modified_z = 0.6745 * (df[column] - median) / mad\n",
    "    return df[modified_z.abs() > threshold]"
   ]
  },
  {
   "cell_type": "markdown",
   "id": "aa1a3bb9",
   "metadata": {},
   "source": [
    "#### 8.2 Visualization Methods"
   ]
  },
  {
   "cell_type": "markdown",
   "id": "2ca9aba2",
   "metadata": {},
   "source": [
    "#### 8.2.1 Box Plot"
   ]
  },
  {
   "cell_type": "markdown",
   "id": "9a3a3f07",
   "metadata": {},
   "source": [
    "- Shows Q1, Q3, median, and Outliers as points outside whiskers"
   ]
  },
  {
   "cell_type": "code",
   "execution_count": 55,
   "id": "0a38c363",
   "metadata": {},
   "outputs": [
    {
     "data": {
      "text/plain": [
       "Text(0.5, 1.0, 'Boxplot - Age')"
      ]
     },
     "execution_count": 55,
     "metadata": {},
     "output_type": "execute_result"
    },
    {
     "data": {
      "image/png": "[encoded data removed]",
      "text/plain": [
       "<Figure size 640x480 with 1 Axes>"
      ]
     },
     "metadata": {},
     "output_type": "display_data"
    }
   ],
   "source": [
    "sns.boxplot(x=dff11_standardized['age'])\n",
    "plt.title('Boxplot - Age')"
   ]
  },
  {
   "cell_type": "markdown",
   "id": "76fd690a",
   "metadata": {},
   "source": [
    "#### 8.2.2 Violin Plot"
   ]
  },
  {
   "cell_type": "markdown",
   "id": "71907904",
   "metadata": {},
   "source": [
    "- Combines a box plot + KDE (Distribution shape)"
   ]
  },
  {
   "cell_type": "code",
   "execution_count": 56,
   "id": "ddedd812",
   "metadata": {},
   "outputs": [
    {
     "data": {
      "text/plain": [
       "<Axes: xlabel='fare'>"
      ]
     },
     "execution_count": 56,
     "metadata": {},
     "output_type": "execute_result"
    },
    {
     "data": {
      "image/png": "[encoded data removed]",
      "text/plain": [
       "<Figure size 640x480 with 1 Axes>"
      ]
     },
     "metadata": {},
     "output_type": "display_data"
    }
   ],
   "source": [
    "sns.violinplot(x=dff11_standardized['fare'])"
   ]
  },
  {
   "cell_type": "markdown",
   "id": "f75c38c5",
   "metadata": {},
   "source": [
    "#### 8.2.3 Scatter Plot (for multivariate)"
   ]
  },
  {
   "cell_type": "markdown",
   "id": "94992eb9",
   "metadata": {},
   "source": [
    "- Plots two variables to identify extremw values or patterns "
   ]
  },
  {
   "cell_type": "code",
   "execution_count": 57,
   "id": "616d4f98",
   "metadata": {},
   "outputs": [
    {
     "data": {
      "text/plain": [
       "<Axes: xlabel='age', ylabel='fare'>"
      ]
     },
     "execution_count": 57,
     "metadata": {},
     "output_type": "execute_result"
    },
    {
     "data": {
      "image/png": "[encoded data removed]",
      "text/plain": [
       "<Figure size 640x480 with 1 Axes>"
      ]
     },
     "metadata": {},
     "output_type": "display_data"
    }
   ],
   "source": [
    "sns.scatterplot(x='age', y='fare', data=dff11_standardized)"
   ]
  },
  {
   "cell_type": "markdown",
   "id": "c669c1bc",
   "metadata": {},
   "source": [
    "#### 8.3 Machine Learning Based Methods¶"
   ]
  },
  {
   "cell_type": "markdown",
   "id": "9cde8fcb",
   "metadata": {},
   "source": [
    "#### 8.3.1 Isolation Forest (Best for large datasets)"
   ]
  },
  {
   "cell_type": "markdown",
   "id": "3d9ffb8c",
   "metadata": {},
   "source": [
    "- Randomly Splits data, outliers get isolated faster"
   ]
  },
  {
   "cell_type": "markdown",
   "id": "5654c9ec",
   "metadata": {},
   "source": [
    "- Here, contamination is the expected proportion of outliers in the dataset\n",
    "- It tells the model how many points it should consider as anomalies"
   ]
  },
  {
   "cell_type": "markdown",
   "id": "53faa502",
   "metadata": {},
   "source": [
    "- The model assigns anomaly scores to all points\n",
    "- Then it selects the top N% (based on scores) as outliers, where N=Contamination=5%"
   ]
  },
  {
   "cell_type": "code",
   "execution_count": 58,
   "id": "cd0198e4",
   "metadata": {},
   "outputs": [],
   "source": [
    "from sklearn.ensemble import IsolationForest\n",
    "\n",
    "def detect_outliers_isolation_forest(df, features):\n",
    "    model = IsolationForest(contamination=0.05)\n",
    "    df['anomaly'] = model.fit_predict(df[features])\n",
    "    return df[df['anomaly'] == -1]"
   ]
  },
  {
   "cell_type": "markdown",
   "id": "6252b7c5",
   "metadata": {},
   "source": [
    "#### 8.3.2 Local Outlier Factor (LOF)"
   ]
  },
  {
   "cell_type": "markdown",
   "id": "fdadc4e9",
   "metadata": {},
   "source": [
    "- Compares the local density of a point to its neighbors"
   ]
  },
  {
   "cell_type": "code",
   "execution_count": 59,
   "id": "5e2b59fd",
   "metadata": {},
   "outputs": [],
   "source": [
    "from sklearn.neighbors import LocalOutlierFactor\n",
    "\n",
    "def detect_outliers_lof(df, features):\n",
    "    lof = LocalOutlierFactor(n_neighbors=20, contamination=0.05)\n",
    "    df['anomaly'] = lof.fit_predict(df[features])\n",
    "    return df[df['anomaly'] == -1]"
   ]
  },
  {
   "cell_type": "markdown",
   "id": "02be244c",
   "metadata": {},
   "source": [
    "#### 8.3.3 DBSCAN Clustering (Density-based)"
   ]
  },
  {
   "cell_type": "markdown",
   "id": "eecec3ae",
   "metadata": {},
   "source": [
    "- Groups dense areas, anything not belonging to any cluster is an outlier"
   ]
  },
  {
   "cell_type": "markdown",
   "id": "b3039cc8",
   "metadata": {},
   "source": [
    "- Here, 'eps' is epsilon: It's the maximum distance between two points for them to be considered as neighbors"
   ]
  },
  {
   "cell_type": "code",
   "execution_count": 60,
   "id": "7103ecc3",
   "metadata": {},
   "outputs": [],
   "source": [
    "from sklearn.cluster import DBSCAN\n",
    "from sklearn.preprocessing import StandardScaler\n",
    "\n",
    "def detect_outliers_dbscan(df, features):\n",
    "    scaled = StandardScaler().fit_transform(df[features])\n",
    "    db = DBSCAN(eps=0.5, min_samples=5).fit(scaled)\n",
    "    df['cluster'] = db.labels_\n",
    "    return df[df['cluster'] == -1]"
   ]
  },
  {
   "cell_type": "markdown",
   "id": "abb9fd05",
   "metadata": {},
   "source": [
    "#### 8.4 Handling Outliers"
   ]
  },
  {
   "cell_type": "markdown",
   "id": "a59c831c",
   "metadata": {},
   "source": [
    "#### 8.4.2 Cap Them (Winsorization)"
   ]
  },
  {
   "cell_type": "markdown",
   "id": "4c4b27ae",
   "metadata": {},
   "source": [
    "- Replace extreme values with a threshold (e.g., 1st/99th percentile)"
   ]
  },
  {
   "cell_type": "code",
   "execution_count": 61,
   "id": "677a9c26",
   "metadata": {},
   "outputs": [],
   "source": [
    "from scipy.stats.mstats import winsorize\n",
    "\n",
    "def cap_outliers_winsorize(df, column, limits=(0.05, 0.05)):\n",
    "    df[column] = winsorize(df[column], limits=limits)\n",
    "    return df"
   ]
  },
  {
   "cell_type": "markdown",
   "id": "d9ef8561",
   "metadata": {},
   "source": [
    "#### 8.4.3 Replace with Median or Mean"
   ]
  },
  {
   "cell_type": "markdown",
   "id": "0dfa28b5",
   "metadata": {},
   "source": [
    "- Replace outliers with more central values"
   ]
  },
  {
   "cell_type": "code",
   "execution_count": 62,
   "id": "9e7a17ec",
   "metadata": {},
   "outputs": [],
   "source": [
    "def replace_outliers_with_median(df, column):\n",
    "    outliers = detect_outliers_iqr(df, column)\n",
    "    median = df[column].median()\n",
    "    df.loc[outliers.index, column] = median\n",
    "    return df"
   ]
  },
  {
   "cell_type": "code",
   "execution_count": 63,
   "id": "8b9dcc62",
   "metadata": {},
   "outputs": [],
   "source": [
    "# Drop outliers from specific numeric columns\n",
    "dff11 = detect_outliers_iqr(dff11, 'age')\n",
    "dff11 = detect_outliers_iqr(dff11, 'fare')\n",
    "dff11 = detect_outliers_iqr(dff11, 'family_size')"
   ]
  }
 ],
 "metadata": {
  "kernelspec": {
   "display_name": "Python 3 (ipykernel)",
   "language": "python",
   "name": "python3"
  },
  "language_info": {
   "codemirror_mode": {
    "name": "ipython",
    "version": 3
   },
   "file_extension": ".py",
   "mimetype": "text/x-python",
   "name": "python",
   "nbconvert_exporter": "python",
   "pygments_lexer": "ipython3",
   "version": "3.10.9"
  }
 },
 "nbformat": 4,
 "nbformat_minor": 5
}
